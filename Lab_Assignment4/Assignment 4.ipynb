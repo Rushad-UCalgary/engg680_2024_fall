{
 "cells": [
  {
   "cell_type": "markdown",
   "metadata": {},
   "source": [
    "# **ENGG680 - Introduction to Digital Engineering**\n",
    "## *Lab Assignment 4: ML Applications - Vehicle Motion State Classification*"
   ]
  },
  {
   "cell_type": "markdown",
   "metadata": {},
   "source": [
    "## Preliminary: Certificate of Work\n"
   ]
  },
  {
   "cell_type": "markdown",
   "metadata": {},
   "source": [
    "*We, the undersigned, certify that this is our own work, which has been done expressly for this course, either without the assistance of any other party or where appropriate we have acknowledged the work of others. Further, we have read and understood the section in the university calendar on plagiarism/cheating/other academic misconduct and we are aware of the implications thereof. We request that the total mark for this assignment be distributed as follows among group members:*"
   ]
  },
  {
   "cell_type": "markdown",
   "metadata": {},
   "source": [
    "|          | First Name | Last Name | Signature (Full Name, Date) | Hours | Contribution % |\n",
    "|----------|------------|-----------|-----------------------------|-------|----------------|\n",
    "| Member 1: | Rushad | Rakhimov | Rushad Rakhimov, November 6, 2024 | 8 | 25% |\n",
    "| Member 2: | Milena | Ljusic | Milena Ljusic, November 6, 2024| 8 | 25% |\n",
    "| Member 3: | Priya | Bosman | Priya Bosman, November 6, 2024 | 8 | 25% |\n",
    "| Member 4: | Syem | Imtiaz | Syem Imtiaz, November 6, 2024| 8 | 25% |"
   ]
  },
  {
   "cell_type": "markdown",
   "metadata": {},
   "source": [
    "---"
   ]
  },
  {
   "cell_type": "markdown",
   "metadata": {},
   "source": [
    "## Section 1 - Motion Classification Using *All Features* Derived From Inertial Sensor Data (33 Marks)"
   ]
  },
  {
   "cell_type": "markdown",
   "metadata": {},
   "source": [
    "---"
   ]
  },
  {
   "cell_type": "markdown",
   "metadata": {},
   "source": [
    "### 1.1 Assignment datasets import (6 Marks)"
   ]
  },
  {
   "cell_type": "markdown",
   "metadata": {},
   "source": [
    "---"
   ]
  },
  {
   "cell_type": "code",
   "execution_count": 86,
   "metadata": {},
   "outputs": [],
   "source": [
    "# some library imports\n",
    "import pandas as pd\n",
    "import seaborn as sns\n",
    "import matplotlib.pyplot as plt"
   ]
  },
  {
   "cell_type": "markdown",
   "metadata": {},
   "source": [
    "First load the following datasets into dataframes. \n",
    "* *UrbanNav-HK_Whampoa-20210521_sensors.csv* to dataframe variable named *cv_set*. This dataset is to be used for model training and hyper parameter tuning. \n",
    "* *UrbanNav-HK_TST-20210517_sensors.csv* to dataframe variable named *test_set1*. This is first independent test dataset. \n",
    "* *2020-03-14-16-45-35.csv* to dataframe variable named *test_set2*. This is the second independent test dataset."
   ]
  },
  {
   "cell_type": "code",
   "execution_count": 2,
   "metadata": {},
   "outputs": [],
   "source": [
    "# (2 marks)\n",
    "# TODO: Load cross validation/training dataset (UrbanNav-HK_Whampoa-20210521_sensors.csv) to 'cv_set' dataframe\n",
    "\n",
    "# uncomment and complete below\n",
    "cv_set = pd.read_csv(\"UrbanNav-HK_Whampoa-20210521_sensors.csv\")\n",
    "\n",
    "# TODO: Load UrbanNav-HK_TST-20210517_sensors.csv to 'test_set1' dataframe\n",
    "test_set1 = pd.read_csv(\"UrbanNav-HK_TST-20210517_sensors.csv\")\n",
    "\n",
    "# TODO: Load 2020-03-14-16-45-35.csv to 'test_set2' dataframe\n",
    "test_set2 = pd.read_csv(\"2020-03-14-16-45-35.csv\")"
   ]
  },
  {
   "cell_type": "markdown",
   "metadata": {},
   "source": [
    "For the *cv_set*, look at the dataframe head and info, and print the list of all columns. The *test_set1* and *test_set2* have the same schema as *cv_set*, however, have different number of rows (samples). "
   ]
  },
  {
   "cell_type": "code",
   "execution_count": 3,
   "metadata": {},
   "outputs": [
    {
     "data": {
      "text/html": [
       "<div>\n",
       "<style scoped>\n",
       "    .dataframe tbody tr th:only-of-type {\n",
       "        vertical-align: middle;\n",
       "    }\n",
       "\n",
       "    .dataframe tbody tr th {\n",
       "        vertical-align: top;\n",
       "    }\n",
       "\n",
       "    .dataframe thead th {\n",
       "        text-align: right;\n",
       "    }\n",
       "</style>\n",
       "<table border=\"1\" class=\"dataframe\">\n",
       "  <thead>\n",
       "    <tr style=\"text-align: right;\">\n",
       "      <th></th>\n",
       "      <th>ax_sum</th>\n",
       "      <th>ay_sum</th>\n",
       "      <th>az_sum</th>\n",
       "      <th>gx_sum</th>\n",
       "      <th>gy_sum</th>\n",
       "      <th>gz_sum</th>\n",
       "      <th>a_sum</th>\n",
       "      <th>g_sum</th>\n",
       "      <th>ax_var</th>\n",
       "      <th>ay_var</th>\n",
       "      <th>...</th>\n",
       "      <th>g_min</th>\n",
       "      <th>ax_max</th>\n",
       "      <th>ay_max</th>\n",
       "      <th>az_max</th>\n",
       "      <th>gx_max</th>\n",
       "      <th>gy_max</th>\n",
       "      <th>gz_max</th>\n",
       "      <th>a_max</th>\n",
       "      <th>g_max</th>\n",
       "      <th>motion_state</th>\n",
       "    </tr>\n",
       "  </thead>\n",
       "  <tbody>\n",
       "    <tr>\n",
       "      <th>0</th>\n",
       "      <td>-0.003929</td>\n",
       "      <td>-0.093081</td>\n",
       "      <td>9.789349</td>\n",
       "      <td>-0.002649</td>\n",
       "      <td>0.001406</td>\n",
       "      <td>-0.001391</td>\n",
       "      <td>9.797418</td>\n",
       "      <td>0.022554</td>\n",
       "      <td>8.046094e-07</td>\n",
       "      <td>1.319665e-07</td>\n",
       "      <td>...</td>\n",
       "      <td>0.000003</td>\n",
       "      <td>0.001496</td>\n",
       "      <td>0.000544</td>\n",
       "      <td>0.024992</td>\n",
       "      <td>0.000110</td>\n",
       "      <td>0.000075</td>\n",
       "      <td>0.000078</td>\n",
       "      <td>0.024997</td>\n",
       "      <td>0.000187</td>\n",
       "      <td>rest</td>\n",
       "    </tr>\n",
       "    <tr>\n",
       "      <th>1</th>\n",
       "      <td>-0.000966</td>\n",
       "      <td>-0.092417</td>\n",
       "      <td>9.789095</td>\n",
       "      <td>-0.001806</td>\n",
       "      <td>0.000103</td>\n",
       "      <td>-0.001943</td>\n",
       "      <td>9.798815</td>\n",
       "      <td>0.021731</td>\n",
       "      <td>1.032619e-06</td>\n",
       "      <td>1.073067e-07</td>\n",
       "      <td>...</td>\n",
       "      <td>0.000006</td>\n",
       "      <td>0.001865</td>\n",
       "      <td>0.000615</td>\n",
       "      <td>0.024828</td>\n",
       "      <td>0.000124</td>\n",
       "      <td>0.000098</td>\n",
       "      <td>0.000090</td>\n",
       "      <td>0.024829</td>\n",
       "      <td>0.000144</td>\n",
       "      <td>rest</td>\n",
       "    </tr>\n",
       "  </tbody>\n",
       "</table>\n",
       "<p>2 rows × 33 columns</p>\n",
       "</div>"
      ],
      "text/plain": [
       "     ax_sum    ay_sum    az_sum    gx_sum    gy_sum    gz_sum     a_sum  \\\n",
       "0 -0.003929 -0.093081  9.789349 -0.002649  0.001406 -0.001391  9.797418   \n",
       "1 -0.000966 -0.092417  9.789095 -0.001806  0.000103 -0.001943  9.798815   \n",
       "\n",
       "      g_sum        ax_var        ay_var  ...     g_min    ax_max    ay_max  \\\n",
       "0  0.022554  8.046094e-07  1.319665e-07  ...  0.000003  0.001496  0.000544   \n",
       "1  0.021731  1.032619e-06  1.073067e-07  ...  0.000006  0.001865  0.000615   \n",
       "\n",
       "     az_max    gx_max    gy_max    gz_max     a_max     g_max  motion_state  \n",
       "0  0.024992  0.000110  0.000075  0.000078  0.024997  0.000187          rest  \n",
       "1  0.024828  0.000124  0.000098  0.000090  0.024829  0.000144          rest  \n",
       "\n",
       "[2 rows x 33 columns]"
      ]
     },
     "execution_count": 3,
     "metadata": {},
     "output_type": "execute_result"
    }
   ],
   "source": [
    "# TODO: Display first two rows of cv_set \n",
    "# (1 mark)\n",
    "\n",
    "cv_set.head(2)"
   ]
  },
  {
   "cell_type": "code",
   "execution_count": 4,
   "metadata": {},
   "outputs": [
    {
     "name": "stdout",
     "output_type": "stream",
     "text": [
      "<class 'pandas.core.frame.DataFrame'>\n",
      "RangeIndex: 1534 entries, 0 to 1533\n",
      "Data columns (total 33 columns):\n",
      " #   Column        Non-Null Count  Dtype  \n",
      "---  ------        --------------  -----  \n",
      " 0   ax_sum        1534 non-null   float64\n",
      " 1   ay_sum        1534 non-null   float64\n",
      " 2   az_sum        1534 non-null   float64\n",
      " 3   gx_sum        1534 non-null   float64\n",
      " 4   gy_sum        1534 non-null   float64\n",
      " 5   gz_sum        1534 non-null   float64\n",
      " 6   a_sum         1534 non-null   float64\n",
      " 7   g_sum         1534 non-null   float64\n",
      " 8   ax_var        1534 non-null   float64\n",
      " 9   ay_var        1534 non-null   float64\n",
      " 10  az_var        1534 non-null   float64\n",
      " 11  gx_var        1534 non-null   float64\n",
      " 12  gy_var        1534 non-null   float64\n",
      " 13  gz_var        1534 non-null   float64\n",
      " 14  a_var         1534 non-null   float64\n",
      " 15  g_var         1534 non-null   float64\n",
      " 16  ax_min        1534 non-null   float64\n",
      " 17  ay_min        1534 non-null   float64\n",
      " 18  az_min        1534 non-null   float64\n",
      " 19  gx_min        1534 non-null   float64\n",
      " 20  gy_min        1534 non-null   float64\n",
      " 21  gz_min        1534 non-null   float64\n",
      " 22  a_min         1534 non-null   float64\n",
      " 23  g_min         1534 non-null   float64\n",
      " 24  ax_max        1534 non-null   float64\n",
      " 25  ay_max        1534 non-null   float64\n",
      " 26  az_max        1534 non-null   float64\n",
      " 27  gx_max        1534 non-null   float64\n",
      " 28  gy_max        1534 non-null   float64\n",
      " 29  gz_max        1534 non-null   float64\n",
      " 30  a_max         1534 non-null   float64\n",
      " 31  g_max         1534 non-null   float64\n",
      " 32  motion_state  1534 non-null   object \n",
      "dtypes: float64(32), object(1)\n",
      "memory usage: 395.6+ KB\n"
     ]
    }
   ],
   "source": [
    "# TODO: Load the info method of cv_set\n",
    "# (1 mark)\n",
    "\n",
    "cv_set.info()"
   ]
  },
  {
   "cell_type": "code",
   "execution_count": 5,
   "metadata": {},
   "outputs": [
    {
     "name": "stdout",
     "output_type": "stream",
     "text": [
      "'cv_set' has 1534 rows and 33 columns\n",
      "'test_set1' has 783 rows and 33 columns\n",
      "'test_set2' has 297 rows and 33 columns\n"
     ]
    }
   ],
   "source": [
    "# TODO: Display the number of rows and columns of all three datasets\n",
    "# (1 mark)\n",
    "print(f\"'cv_set' has {cv_set.shape[0]} rows and {cv_set.shape[1]} columns\")\n",
    "print(f\"'test_set1' has {test_set1.shape[0]} rows and {test_set1.shape[1]} columns\")\n",
    "print(f\"'test_set2' has {test_set2.shape[0]} rows and {test_set2.shape[1]} columns\")"
   ]
  },
  {
   "cell_type": "code",
   "execution_count": 6,
   "metadata": {},
   "outputs": [
    {
     "data": {
      "text/plain": [
       "Index(['ax_sum', 'ay_sum', 'az_sum', 'gx_sum', 'gy_sum', 'gz_sum', 'a_sum',\n",
       "       'g_sum', 'ax_var', 'ay_var', 'az_var', 'gx_var', 'gy_var', 'gz_var',\n",
       "       'a_var', 'g_var', 'ax_min', 'ay_min', 'az_min', 'gx_min', 'gy_min',\n",
       "       'gz_min', 'a_min', 'g_min', 'ax_max', 'ay_max', 'az_max', 'gx_max',\n",
       "       'gy_max', 'gz_max', 'a_max', 'g_max', 'motion_state'],\n",
       "      dtype='object')"
      ]
     },
     "execution_count": 6,
     "metadata": {},
     "output_type": "execute_result"
    }
   ],
   "source": [
    "# TODO: Display all columns in cv_set \n",
    "# (1 mark)\n",
    "cv_set.columns"
   ]
  },
  {
   "cell_type": "markdown",
   "metadata": {},
   "source": [
    "In all three dataframes, target vector is stored in the *motion_state* column. All other columns are features. "
   ]
  },
  {
   "cell_type": "markdown",
   "metadata": {},
   "source": [
    "___"
   ]
  },
  {
   "cell_type": "markdown",
   "metadata": {},
   "source": [
    "### 1.2 - Grid Search with Cross Validation (18 Marks)"
   ]
  },
  {
   "cell_type": "markdown",
   "metadata": {},
   "source": [
    "___"
   ]
  },
  {
   "cell_type": "markdown",
   "metadata": {},
   "source": [
    "#### 1.2.1 - Extract all features and target from cv_set"
   ]
  },
  {
   "cell_type": "markdown",
   "metadata": {},
   "source": [
    "___"
   ]
  },
  {
   "cell_type": "markdown",
   "metadata": {},
   "source": [
    "From the *cv_set*, load the target vector stored in the *motion_state* column into a new variable *y* "
   ]
  },
  {
   "cell_type": "code",
   "execution_count": 7,
   "metadata": {},
   "outputs": [],
   "source": [
    "# TODO - Load target vector into y\n",
    "# (1 mark) \n",
    "y = cv_set[\"motion_state\"]"
   ]
  },
  {
   "cell_type": "markdown",
   "metadata": {},
   "source": [
    "From *cv_set*, load all features, that is all columns except for the target vector, in a new dataframe variable *X*"
   ]
  },
  {
   "cell_type": "code",
   "execution_count": 8,
   "metadata": {},
   "outputs": [
    {
     "data": {
      "text/html": [
       "<div>\n",
       "<style scoped>\n",
       "    .dataframe tbody tr th:only-of-type {\n",
       "        vertical-align: middle;\n",
       "    }\n",
       "\n",
       "    .dataframe tbody tr th {\n",
       "        vertical-align: top;\n",
       "    }\n",
       "\n",
       "    .dataframe thead th {\n",
       "        text-align: right;\n",
       "    }\n",
       "</style>\n",
       "<table border=\"1\" class=\"dataframe\">\n",
       "  <thead>\n",
       "    <tr style=\"text-align: right;\">\n",
       "      <th></th>\n",
       "      <th>ax_sum</th>\n",
       "      <th>ay_sum</th>\n",
       "      <th>az_sum</th>\n",
       "      <th>gx_sum</th>\n",
       "      <th>gy_sum</th>\n",
       "      <th>gz_sum</th>\n",
       "      <th>a_sum</th>\n",
       "      <th>g_sum</th>\n",
       "      <th>ax_var</th>\n",
       "      <th>ay_var</th>\n",
       "      <th>...</th>\n",
       "      <th>a_min</th>\n",
       "      <th>g_min</th>\n",
       "      <th>ax_max</th>\n",
       "      <th>ay_max</th>\n",
       "      <th>az_max</th>\n",
       "      <th>gx_max</th>\n",
       "      <th>gy_max</th>\n",
       "      <th>gz_max</th>\n",
       "      <th>a_max</th>\n",
       "      <th>g_max</th>\n",
       "    </tr>\n",
       "  </thead>\n",
       "  <tbody>\n",
       "    <tr>\n",
       "      <th>0</th>\n",
       "      <td>-0.003929</td>\n",
       "      <td>-0.093081</td>\n",
       "      <td>9.789349</td>\n",
       "      <td>-0.002649</td>\n",
       "      <td>0.001406</td>\n",
       "      <td>-0.001391</td>\n",
       "      <td>9.797418</td>\n",
       "      <td>0.022554</td>\n",
       "      <td>8.046094e-07</td>\n",
       "      <td>1.319665e-07</td>\n",
       "      <td>...</td>\n",
       "      <td>0.023871</td>\n",
       "      <td>0.000003</td>\n",
       "      <td>0.001496</td>\n",
       "      <td>0.000544</td>\n",
       "      <td>0.024992</td>\n",
       "      <td>0.000110</td>\n",
       "      <td>0.000075</td>\n",
       "      <td>0.000078</td>\n",
       "      <td>0.024997</td>\n",
       "      <td>0.000187</td>\n",
       "    </tr>\n",
       "    <tr>\n",
       "      <th>1</th>\n",
       "      <td>-0.000966</td>\n",
       "      <td>-0.092417</td>\n",
       "      <td>9.789095</td>\n",
       "      <td>-0.001806</td>\n",
       "      <td>0.000103</td>\n",
       "      <td>-0.001943</td>\n",
       "      <td>9.798815</td>\n",
       "      <td>0.021731</td>\n",
       "      <td>1.032619e-06</td>\n",
       "      <td>1.073067e-07</td>\n",
       "      <td>...</td>\n",
       "      <td>0.024153</td>\n",
       "      <td>0.000006</td>\n",
       "      <td>0.001865</td>\n",
       "      <td>0.000615</td>\n",
       "      <td>0.024828</td>\n",
       "      <td>0.000124</td>\n",
       "      <td>0.000098</td>\n",
       "      <td>0.000090</td>\n",
       "      <td>0.024829</td>\n",
       "      <td>0.000144</td>\n",
       "    </tr>\n",
       "  </tbody>\n",
       "</table>\n",
       "<p>2 rows × 32 columns</p>\n",
       "</div>"
      ],
      "text/plain": [
       "     ax_sum    ay_sum    az_sum    gx_sum    gy_sum    gz_sum     a_sum  \\\n",
       "0 -0.003929 -0.093081  9.789349 -0.002649  0.001406 -0.001391  9.797418   \n",
       "1 -0.000966 -0.092417  9.789095 -0.001806  0.000103 -0.001943  9.798815   \n",
       "\n",
       "      g_sum        ax_var        ay_var  ...     a_min     g_min    ax_max  \\\n",
       "0  0.022554  8.046094e-07  1.319665e-07  ...  0.023871  0.000003  0.001496   \n",
       "1  0.021731  1.032619e-06  1.073067e-07  ...  0.024153  0.000006  0.001865   \n",
       "\n",
       "     ay_max    az_max    gx_max    gy_max    gz_max     a_max     g_max  \n",
       "0  0.000544  0.024992  0.000110  0.000075  0.000078  0.024997  0.000187  \n",
       "1  0.000615  0.024828  0.000124  0.000098  0.000090  0.024829  0.000144  \n",
       "\n",
       "[2 rows x 32 columns]"
      ]
     },
     "execution_count": 8,
     "metadata": {},
     "output_type": "execute_result"
    }
   ],
   "source": [
    "# TODO - Load all features from cv_set to X\n",
    "# (2 marks)\n",
    "X = cv_set.drop(columns=[\"motion_state\"])\n",
    "X.head(2)"
   ]
  },
  {
   "cell_type": "markdown",
   "metadata": {},
   "source": [
    "___"
   ]
  },
  {
   "cell_type": "markdown",
   "metadata": {},
   "source": [
    "#### 1.2.2 - Configure and Perform Grid Search with Cross-Validation"
   ]
  },
  {
   "cell_type": "markdown",
   "metadata": {},
   "source": [
    "___"
   ]
  },
  {
   "cell_type": "code",
   "execution_count": 9,
   "metadata": {},
   "outputs": [],
   "source": [
    "from sklearn.pipeline import Pipeline\n",
    "from sklearn.model_selection import train_test_split\n",
    "from sklearn.svm import SVC\n",
    "from sklearn.preprocessing import StandardScaler, RobustScaler, MinMaxScaler, Normalizer\n",
    "from sklearn.model_selection import GridSearchCV"
   ]
  },
  {
   "cell_type": "markdown",
   "metadata": {},
   "source": [
    "The dataset *(X, y)*, must be split into training/validation *(X_train, y_train)* and testing *(X_test, y_test)* sets. Use the `train_test_split` function from sklearn to create the split, where  **30%** of data is used for testing. Set the `random_state=42`, and `stratify=y`.  "
   ]
  },
  {
   "cell_type": "code",
   "execution_count": 10,
   "metadata": {},
   "outputs": [],
   "source": [
    "# TODO - Perform test/train split \n",
    "# (1 mark)\n",
    "# TODO - Perform test/train split\n",
    "# (1 mark)\n",
    "X_train, X_test, y_train, y_test = train_test_split(\n",
    "    X, y, test_size=0.30, random_state=42, stratify=y\n",
    ")"
   ]
  },
  {
   "cell_type": "markdown",
   "metadata": {},
   "source": [
    "Initialize a `Pipeline`, consisting of a *scaler* and a *classifer*, set the default values to *StandardScaler()*, and *SVC()*, respectively. "
   ]
  },
  {
   "cell_type": "code",
   "execution_count": 11,
   "metadata": {},
   "outputs": [],
   "source": [
    "# TODO - Initialize Pipeline into variable pipe\n",
    "# (2 marks)\n",
    "pipe = Pipeline([\n",
    "    ('scaler', StandardScaler()),\n",
    "    ('classifier', SVC())\n",
    "])"
   ]
  },
  {
   "cell_type": "markdown",
   "metadata": {},
   "source": [
    "Define the grid search configuration (*param_grid*) for training and hyper parameter tuning of the *support vector classifier*. Tune, the hyper-parameter *C*, over the interval `C=[0.01, 0.1, 1 ,10,100]`, *gamma*, over the interval `gamma=[0.001, 0.01, 0.1,1]`, and use the *radial basis function* as the kernel. For the *scaler* parameter, test with the `StandardScaler`, `RobustScaler`, and `None` options. "
   ]
  },
  {
   "cell_type": "code",
   "execution_count": 12,
   "metadata": {},
   "outputs": [],
   "source": [
    "# TODO - Setup grid set\n",
    "# (4 marks)\n",
    "\n",
    "param_grid = {\n",
    "    'scaler': [StandardScaler(), RobustScaler(), None],\n",
    "    'classifier__C': [0.01, 0.1, 1, 10, 100], \n",
    "    'classifier__gamma': [0.001, 0.01, 0.1, 1],\n",
    "    'classifier__kernel': ['rbf']\n",
    "}"
   ]
  },
  {
   "cell_type": "code",
   "execution_count": 13,
   "metadata": {},
   "outputs": [
    {
     "data": {
      "text/plain": [
       "GridSearchCV(cv=5,\n",
       "             estimator=Pipeline(steps=[('scaler', StandardScaler()),\n",
       "                                       ('classifier', SVC())]),\n",
       "             param_grid={'classifier__C': [0.01, 0.1, 1, 10, 100],\n",
       "                         'classifier__gamma': [0.001, 0.01, 0.1, 1],\n",
       "                         'classifier__kernel': ['rbf'],\n",
       "                         'scaler': [StandardScaler(), RobustScaler(), None]},\n",
       "             return_train_score=True, scoring='accuracy')"
      ]
     },
     "execution_count": 13,
     "metadata": {},
     "output_type": "execute_result"
    }
   ],
   "source": [
    "# Perform the grid search to train model and tune hyperparameters\n",
    "grid = GridSearchCV(\n",
    "    pipe, \n",
    "    param_grid, \n",
    "    cv=5, \n",
    "    scoring='accuracy', \n",
    "    return_train_score=True \n",
    ")\n",
    "\n",
    "# Fit the grid search on the training data\n",
    "grid.fit(X_train, y_train)"
   ]
  },
  {
   "cell_type": "markdown",
   "metadata": {},
   "source": [
    "___"
   ]
  },
  {
   "cell_type": "markdown",
   "metadata": {},
   "source": [
    "#### 1.2.3 - Visualize Grid Search Results"
   ]
  },
  {
   "cell_type": "markdown",
   "metadata": {},
   "source": [
    "___"
   ]
  },
  {
   "cell_type": "markdown",
   "metadata": {},
   "source": [
    "Print the results from the grid search. The following outputs must be printed.\n",
    "* Best parameter set\n",
    "* Best cross-validation train score\n",
    "* Best cross-validation test score\n",
    "* Test set accuracy"
   ]
  },
  {
   "cell_type": "code",
   "execution_count": 14,
   "metadata": {},
   "outputs": [
    {
     "name": "stdout",
     "output_type": "stream",
     "text": [
      "Best params:\n",
      "{'classifier__C': 100, 'classifier__gamma': 0.01, 'classifier__kernel': 'rbf', 'scaler': RobustScaler()}\n",
      "\n",
      "Best cross-validation train score: 1.00\n",
      "Best cross-validation validation score: 0.95\n",
      "Test-set score: 0.96\n"
     ]
    }
   ],
   "source": [
    "# TODO: Print the results from the grid search\n",
    "# (2 marks)\n",
    "\n",
    "print(\"Best params:\\n{}\\n\".format(grid.best_params_))\n",
    "print(\"Best cross-validation train score: {:.2f}\".format(max(grid.cv_results_['mean_train_score'])))\n",
    "print(\"Best cross-validation validation score: {:.2f}\".format(grid.best_score_))\n",
    "print(\"Test-set score: {:.2f}\".format(grid.score(X_test, y_test)))"
   ]
  },
  {
   "cell_type": "markdown",
   "metadata": {},
   "source": [
    "Display the confusion matrix and print the classification report for the trained model. Use the *(X_test, y_test)* dataset. **Hint** - You can use your code from assignment 3."
   ]
  },
  {
   "cell_type": "code",
   "execution_count": 15,
   "metadata": {},
   "outputs": [
    {
     "data": {
      "image/png": "[encoded data removed]",
      "text/plain": [
       "<Figure size 576x432 with 2 Axes>"
      ]
     },
     "metadata": {
      "needs_background": "light"
     },
     "output_type": "display_data"
    },
    {
     "name": "stdout",
     "output_type": "stream",
     "text": [
      "Classification Report:\n",
      "\n",
      "              precision    recall  f1-score   support\n",
      "\n",
      "        rest       0.94      0.99      0.96       155\n",
      "    straight       0.97      0.93      0.95       207\n",
      "        turn       0.95      0.97      0.96        99\n",
      "\n",
      "    accuracy                           0.96       461\n",
      "   macro avg       0.95      0.96      0.96       461\n",
      "weighted avg       0.96      0.96      0.96       461\n",
      "\n"
     ]
    }
   ],
   "source": [
    "from sklearn.metrics import confusion_matrix, classification_report\n",
    "\n",
    "y_pred = grid.predict(X_test)\n",
    "\n",
    "conf_matrix = confusion_matrix(y_test, y_pred)\n",
    "\n",
    "class_labels = sorted(y_test.unique())  # Unique labels from y_test\n",
    "\n",
    "plt.figure(figsize=(8, 6))\n",
    "sns.heatmap(conf_matrix, annot=True, fmt='d', cmap='Blues', xticklabels=class_labels, yticklabels=class_labels)\n",
    "plt.xlabel('Predicted Labels')\n",
    "plt.ylabel('True Labels')\n",
    "plt.title('Confusion Matrix')\n",
    "plt.show()\n",
    "\n",
    "print(\"Classification Report:\\n\")\n",
    "print(classification_report(y_test, y_pred, target_names=[str(label) for label in class_labels]))"
   ]
  },
  {
   "cell_type": "markdown",
   "metadata": {},
   "source": [
    "___"
   ]
  },
  {
   "cell_type": "markdown",
   "metadata": {},
   "source": [
    "#### 1.2.4 - Questions"
   ]
  },
  {
   "cell_type": "markdown",
   "metadata": {},
   "source": [
    "1. Comment on the fit of the model to the dataset? (2 marks)\n",
    "2. In the grid search, are the intervals used for *C* and *gamma* hyperparameters suitable? Why or why not? (2 marks)"
   ]
  },
  {
   "cell_type": "markdown",
   "metadata": {},
   "source": [
    "#### 1.2.4 - Answers\n",
    "1. The model fits the dataset exceptionally well, with overall high performance across all metrics (accuracy, precision, recall, F1-score), and it generalizes effectively to new data: 0.95 (validation set) and 0.96 (test set).\n",
    "2.  Even though we could experiment with a wider range of values or finer intervals, the selected C and gamma values are already suitable (the validation and test scores from the grid search confirm that these values allow the model to generalize well without overfitting or underfitting)"
   ]
  },
  {
   "cell_type": "markdown",
   "metadata": {},
   "source": [
    "___"
   ]
  },
  {
   "cell_type": "markdown",
   "metadata": {},
   "source": [
    "### 1.3 - Model Evaluation on Test Datasets 1 and 2 (9 Marks)"
   ]
  },
  {
   "cell_type": "markdown",
   "metadata": {},
   "source": [
    "___"
   ]
  },
  {
   "cell_type": "markdown",
   "metadata": {},
   "source": [
    "#### 1.3.1 - Extract all features and targets from test datasets"
   ]
  },
  {
   "cell_type": "markdown",
   "metadata": {},
   "source": [
    "Next, the model trained in 1.2 will be tested on independent datasets, that is *test_set1* and *test_set2*. <br>\n",
    "The test_sets must be seperated into features (Xs) and targets (ys)."
   ]
  },
  {
   "cell_type": "code",
   "execution_count": 16,
   "metadata": {},
   "outputs": [
    {
     "data": {
      "text/html": [
       "<div>\n",
       "<style scoped>\n",
       "    .dataframe tbody tr th:only-of-type {\n",
       "        vertical-align: middle;\n",
       "    }\n",
       "\n",
       "    .dataframe tbody tr th {\n",
       "        vertical-align: top;\n",
       "    }\n",
       "\n",
       "    .dataframe thead th {\n",
       "        text-align: right;\n",
       "    }\n",
       "</style>\n",
       "<table border=\"1\" class=\"dataframe\">\n",
       "  <thead>\n",
       "    <tr style=\"text-align: right;\">\n",
       "      <th></th>\n",
       "      <th>ax_sum</th>\n",
       "      <th>ay_sum</th>\n",
       "      <th>az_sum</th>\n",
       "      <th>gx_sum</th>\n",
       "      <th>gy_sum</th>\n",
       "      <th>gz_sum</th>\n",
       "      <th>a_sum</th>\n",
       "      <th>g_sum</th>\n",
       "      <th>ax_var</th>\n",
       "      <th>ay_var</th>\n",
       "      <th>...</th>\n",
       "      <th>a_min</th>\n",
       "      <th>g_min</th>\n",
       "      <th>ax_max</th>\n",
       "      <th>ay_max</th>\n",
       "      <th>az_max</th>\n",
       "      <th>gx_max</th>\n",
       "      <th>gy_max</th>\n",
       "      <th>gz_max</th>\n",
       "      <th>a_max</th>\n",
       "      <th>g_max</th>\n",
       "    </tr>\n",
       "  </thead>\n",
       "  <tbody>\n",
       "    <tr>\n",
       "      <th>0</th>\n",
       "      <td>0.264465</td>\n",
       "      <td>0.089904</td>\n",
       "      <td>9.786930</td>\n",
       "      <td>-0.002305</td>\n",
       "      <td>0.000218</td>\n",
       "      <td>-0.001143</td>\n",
       "      <td>9.801661</td>\n",
       "      <td>0.025634</td>\n",
       "      <td>0.000001</td>\n",
       "      <td>7.749919e-08</td>\n",
       "      <td>...</td>\n",
       "      <td>0.024056</td>\n",
       "      <td>0.000003</td>\n",
       "      <td>0.002506</td>\n",
       "      <td>0.000845</td>\n",
       "      <td>0.024884</td>\n",
       "      <td>0.000155</td>\n",
       "      <td>0.000078</td>\n",
       "      <td>0.000069</td>\n",
       "      <td>0.024886</td>\n",
       "      <td>0.000170</td>\n",
       "    </tr>\n",
       "    <tr>\n",
       "      <th>1</th>\n",
       "      <td>0.264300</td>\n",
       "      <td>0.088882</td>\n",
       "      <td>9.788127</td>\n",
       "      <td>-0.001865</td>\n",
       "      <td>-0.000523</td>\n",
       "      <td>-0.001999</td>\n",
       "      <td>9.802481</td>\n",
       "      <td>0.025218</td>\n",
       "      <td>0.000001</td>\n",
       "      <td>9.243000e-08</td>\n",
       "      <td>...</td>\n",
       "      <td>0.024084</td>\n",
       "      <td>0.000007</td>\n",
       "      <td>0.002427</td>\n",
       "      <td>0.000949</td>\n",
       "      <td>0.024881</td>\n",
       "      <td>0.000201</td>\n",
       "      <td>0.000095</td>\n",
       "      <td>0.000076</td>\n",
       "      <td>0.024883</td>\n",
       "      <td>0.000201</td>\n",
       "    </tr>\n",
       "  </tbody>\n",
       "</table>\n",
       "<p>2 rows × 32 columns</p>\n",
       "</div>"
      ],
      "text/plain": [
       "     ax_sum    ay_sum    az_sum    gx_sum    gy_sum    gz_sum     a_sum  \\\n",
       "0  0.264465  0.089904  9.786930 -0.002305  0.000218 -0.001143  9.801661   \n",
       "1  0.264300  0.088882  9.788127 -0.001865 -0.000523 -0.001999  9.802481   \n",
       "\n",
       "      g_sum    ax_var        ay_var  ...     a_min     g_min    ax_max  \\\n",
       "0  0.025634  0.000001  7.749919e-08  ...  0.024056  0.000003  0.002506   \n",
       "1  0.025218  0.000001  9.243000e-08  ...  0.024084  0.000007  0.002427   \n",
       "\n",
       "     ay_max    az_max    gx_max    gy_max    gz_max     a_max     g_max  \n",
       "0  0.000845  0.024884  0.000155  0.000078  0.000069  0.024886  0.000170  \n",
       "1  0.000949  0.024881  0.000201  0.000095  0.000076  0.024883  0.000201  \n",
       "\n",
       "[2 rows x 32 columns]"
      ]
     },
     "execution_count": 16,
     "metadata": {},
     "output_type": "execute_result"
    }
   ],
   "source": [
    "# TODO - Load the target vector from test_set1 into y1, and all features from test_set1 into X1\n",
    "# (1 mark)\n",
    "y1 = test_set1[\"motion_state\"]  # Target vector\n",
    "X1 = test_set1.drop(columns=[\"motion_state\"])  # All features\n",
    "X1.head(2)"
   ]
  },
  {
   "cell_type": "code",
   "execution_count": 17,
   "metadata": {},
   "outputs": [
    {
     "data": {
      "text/html": [
       "<div>\n",
       "<style scoped>\n",
       "    .dataframe tbody tr th:only-of-type {\n",
       "        vertical-align: middle;\n",
       "    }\n",
       "\n",
       "    .dataframe tbody tr th {\n",
       "        vertical-align: top;\n",
       "    }\n",
       "\n",
       "    .dataframe thead th {\n",
       "        text-align: right;\n",
       "    }\n",
       "</style>\n",
       "<table border=\"1\" class=\"dataframe\">\n",
       "  <thead>\n",
       "    <tr style=\"text-align: right;\">\n",
       "      <th></th>\n",
       "      <th>ax_sum</th>\n",
       "      <th>ay_sum</th>\n",
       "      <th>az_sum</th>\n",
       "      <th>gx_sum</th>\n",
       "      <th>gy_sum</th>\n",
       "      <th>gz_sum</th>\n",
       "      <th>a_sum</th>\n",
       "      <th>g_sum</th>\n",
       "      <th>ax_var</th>\n",
       "      <th>ay_var</th>\n",
       "      <th>...</th>\n",
       "      <th>a_min</th>\n",
       "      <th>g_min</th>\n",
       "      <th>ax_max</th>\n",
       "      <th>ay_max</th>\n",
       "      <th>az_max</th>\n",
       "      <th>gx_max</th>\n",
       "      <th>gy_max</th>\n",
       "      <th>gz_max</th>\n",
       "      <th>a_max</th>\n",
       "      <th>g_max</th>\n",
       "    </tr>\n",
       "  </thead>\n",
       "  <tbody>\n",
       "    <tr>\n",
       "      <th>0</th>\n",
       "      <td>-0.046400</td>\n",
       "      <td>0.305907</td>\n",
       "      <td>9.791451</td>\n",
       "      <td>-0.002184</td>\n",
       "      <td>0.001311</td>\n",
       "      <td>-0.001901</td>\n",
       "      <td>9.800683</td>\n",
       "      <td>0.012437</td>\n",
       "      <td>0.000002</td>\n",
       "      <td>3.020959e-07</td>\n",
       "      <td>...</td>\n",
       "      <td>0.048406</td>\n",
       "      <td>0.000007</td>\n",
       "      <td>0.002575</td>\n",
       "      <td>0.002993</td>\n",
       "      <td>0.049701</td>\n",
       "      <td>0.000094</td>\n",
       "      <td>0.000115</td>\n",
       "      <td>0.000080</td>\n",
       "      <td>0.049764</td>\n",
       "      <td>0.000142</td>\n",
       "    </tr>\n",
       "    <tr>\n",
       "      <th>1</th>\n",
       "      <td>-0.050073</td>\n",
       "      <td>0.311947</td>\n",
       "      <td>9.785619</td>\n",
       "      <td>-0.003369</td>\n",
       "      <td>0.001898</td>\n",
       "      <td>-0.002051</td>\n",
       "      <td>9.797741</td>\n",
       "      <td>0.013805</td>\n",
       "      <td>0.000003</td>\n",
       "      <td>6.859937e-07</td>\n",
       "      <td>...</td>\n",
       "      <td>0.047696</td>\n",
       "      <td>0.000013</td>\n",
       "      <td>0.003880</td>\n",
       "      <td>0.004106</td>\n",
       "      <td>0.050477</td>\n",
       "      <td>0.000140</td>\n",
       "      <td>0.000140</td>\n",
       "      <td>0.000083</td>\n",
       "      <td>0.050763</td>\n",
       "      <td>0.000151</td>\n",
       "    </tr>\n",
       "  </tbody>\n",
       "</table>\n",
       "<p>2 rows × 32 columns</p>\n",
       "</div>"
      ],
      "text/plain": [
       "     ax_sum    ay_sum    az_sum    gx_sum    gy_sum    gz_sum     a_sum  \\\n",
       "0 -0.046400  0.305907  9.791451 -0.002184  0.001311 -0.001901  9.800683   \n",
       "1 -0.050073  0.311947  9.785619 -0.003369  0.001898 -0.002051  9.797741   \n",
       "\n",
       "      g_sum    ax_var        ay_var  ...     a_min     g_min    ax_max  \\\n",
       "0  0.012437  0.000002  3.020959e-07  ...  0.048406  0.000007  0.002575   \n",
       "1  0.013805  0.000003  6.859937e-07  ...  0.047696  0.000013  0.003880   \n",
       "\n",
       "     ay_max    az_max    gx_max    gy_max    gz_max     a_max     g_max  \n",
       "0  0.002993  0.049701  0.000094  0.000115  0.000080  0.049764  0.000142  \n",
       "1  0.004106  0.050477  0.000140  0.000140  0.000083  0.050763  0.000151  \n",
       "\n",
       "[2 rows x 32 columns]"
      ]
     },
     "execution_count": 17,
     "metadata": {},
     "output_type": "execute_result"
    }
   ],
   "source": [
    "# TODO - Load the target vector from test_set2 into y2, and all features from test_set2 into X2\n",
    "y2 = test_set2[\"motion_state\"]  # Target vector\n",
    "X2 = test_set2.drop(columns=[\"motion_state\"])  # All features\n",
    "X2.head(2)"
   ]
  },
  {
   "cell_type": "markdown",
   "metadata": {},
   "source": [
    "____"
   ]
  },
  {
   "cell_type": "markdown",
   "metadata": {},
   "source": [
    "#### 1.3.2 - Visualize Results"
   ]
  },
  {
   "cell_type": "markdown",
   "metadata": {},
   "source": [
    "For each test dataset, print the test set accuracy score. "
   ]
  },
  {
   "cell_type": "code",
   "execution_count": 18,
   "metadata": {
    "scrolled": true
   },
   "outputs": [
    {
     "name": "stdout",
     "output_type": "stream",
     "text": [
      "test_set1 score: 0.92\n",
      "test_set2 score: 0.25\n"
     ]
    }
   ],
   "source": [
    "# TODO - Print test score accuracies for test_set1 and test_set2\n",
    "# (1 mark)\n",
    "\n",
    "print(\"test_set1 score: {:.2f}\".format(grid.score(X1, y1)))\n",
    "print(\"test_set2 score: {:.2f}\".format(grid.score(X2, y2)))"
   ]
  },
  {
   "cell_type": "markdown",
   "metadata": {},
   "source": [
    "Display the confusion matrix and print the classification for test_set 1 *(X1, y1)*"
   ]
  },
  {
   "cell_type": "code",
   "execution_count": 19,
   "metadata": {},
   "outputs": [
    {
     "data": {
      "image/png": "[encoded data removed]",
      "text/plain": [
       "<Figure size 576x432 with 2 Axes>"
      ]
     },
     "metadata": {
      "needs_background": "light"
     },
     "output_type": "display_data"
    },
    {
     "name": "stdout",
     "output_type": "stream",
     "text": [
      "Classification Report for test_set1:\n",
      "\n",
      "              precision    recall  f1-score   support\n",
      "\n",
      "        rest       0.97      0.87      0.91       231\n",
      "    straight       0.91      0.94      0.93       411\n",
      "        turn       0.89      0.95      0.92       141\n",
      "\n",
      "    accuracy                           0.92       783\n",
      "   macro avg       0.92      0.92      0.92       783\n",
      "weighted avg       0.92      0.92      0.92       783\n",
      "\n"
     ]
    }
   ],
   "source": [
    "# TODO - Display confusion matrix and print classification report for (X1, y1)\n",
    "# (1 mark)\n",
    "\n",
    "y1_pred = grid.predict(X1)\n",
    "\n",
    "conf_matrix1 = confusion_matrix(y1, y1_pred)\n",
    "\n",
    "plt.figure(figsize=(8, 6))\n",
    "sns.heatmap(conf_matrix1, annot=True, fmt='d', cmap='Blues', xticklabels=grid.classes_, yticklabels=grid.classes_)\n",
    "plt.xlabel('Predicted Labels')\n",
    "plt.ylabel('True Labels')\n",
    "plt.title('Confusion Matrix for test_set1')\n",
    "plt.show()\n",
    "\n",
    "class_labels = sorted(y1.unique())  \n",
    "\n",
    "print(\"Classification Report for test_set1:\\n\")\n",
    "print(classification_report(y1, y1_pred, target_names=[str(label) for label in class_labels]))"
   ]
  },
  {
   "cell_type": "markdown",
   "metadata": {},
   "source": [
    "Display the confusion matrix and print the classification for test_set 2 *(X2, y2)*"
   ]
  },
  {
   "cell_type": "code",
   "execution_count": 20,
   "metadata": {},
   "outputs": [
    {
     "data": {
      "image/png": "[encoded data removed]",
      "text/plain": [
       "<Figure size 576x432 with 2 Axes>"
      ]
     },
     "metadata": {
      "needs_background": "light"
     },
     "output_type": "display_data"
    },
    {
     "name": "stdout",
     "output_type": "stream",
     "text": [
      "Classification Report for test_set2:\n",
      "\n",
      "              precision    recall  f1-score   support\n",
      "\n",
      "        rest       0.00      0.00      0.00        16\n",
      "    straight       0.00      0.00      0.00       206\n",
      "        turn       0.25      1.00      0.40        75\n",
      "\n",
      "    accuracy                           0.25       297\n",
      "   macro avg       0.08      0.33      0.13       297\n",
      "weighted avg       0.06      0.25      0.10       297\n",
      "\n"
     ]
    },
    {
     "name": "stderr",
     "output_type": "stream",
     "text": [
      "C:\\ProgramData\\Anaconda3\\lib\\site-packages\\sklearn\\metrics\\_classification.py:1248: UndefinedMetricWarning: Precision and F-score are ill-defined and being set to 0.0 in labels with no predicted samples. Use `zero_division` parameter to control this behavior.\n",
      "  _warn_prf(average, modifier, msg_start, len(result))\n",
      "C:\\ProgramData\\Anaconda3\\lib\\site-packages\\sklearn\\metrics\\_classification.py:1248: UndefinedMetricWarning: Precision and F-score are ill-defined and being set to 0.0 in labels with no predicted samples. Use `zero_division` parameter to control this behavior.\n",
      "  _warn_prf(average, modifier, msg_start, len(result))\n",
      "C:\\ProgramData\\Anaconda3\\lib\\site-packages\\sklearn\\metrics\\_classification.py:1248: UndefinedMetricWarning: Precision and F-score are ill-defined and being set to 0.0 in labels with no predicted samples. Use `zero_division` parameter to control this behavior.\n",
      "  _warn_prf(average, modifier, msg_start, len(result))\n"
     ]
    }
   ],
   "source": [
    "# TODO - Display confusion matrix and print classification report for (X2, y2)\n",
    "\n",
    "y2_pred = grid.predict(X2)\n",
    "\n",
    "conf_matrix2 = confusion_matrix(y2, y2_pred)\n",
    "\n",
    "class_labels = sorted(y2.unique()) \n",
    "\n",
    "plt.figure(figsize=(8, 6))\n",
    "sns.heatmap(conf_matrix2, annot=True, fmt='d', cmap='Blues', xticklabels=class_labels, yticklabels=class_labels)\n",
    "plt.xlabel('Predicted Labels')\n",
    "plt.ylabel('True Labels')\n",
    "plt.title('Confusion Matrix for test_set2')\n",
    "plt.show()\n",
    "\n",
    "print(\"Classification Report for test_set2:\\n\")\n",
    "print(classification_report(y2, y2_pred, target_names=[str(label) for label in class_labels]))"
   ]
  },
  {
   "cell_type": "markdown",
   "metadata": {},
   "source": [
    "___"
   ]
  },
  {
   "cell_type": "markdown",
   "metadata": {},
   "source": [
    "#### 1.3.3 - Questions "
   ]
  },
  {
   "cell_type": "markdown",
   "metadata": {},
   "source": [
    "**Based on results so far** \n",
    "1. Comment on the model's performances on the datasets *(X_test, y_test)*, *(X1, y1)*, *(X2, y2)*? A significant difference in performance should be observed, what is this an example of? (3 marks)\n",
    "1. Provide and explain potential causes for the observed behaviour in performance? (3 marks)"
   ]
  },
  {
   "cell_type": "markdown",
   "metadata": {},
   "source": [
    "#### 1.3.3 - Answers\n",
    "1. \n",
    "   - (X_test, y_test): The model performs very well on this dataset with 96% accuracy, demonstrating good generalization for data similar to the training set.\n",
    "   - (X1, y1): The model achieves 92% accuracy on test_set1, indicating that it generalizes well to slightly different but related data distributions.\n",
    "   - (X2, y2): The model performs very poorly on test_set2, with only 25% accuracy. Based on the classification matrix (X2, y2), it predicts only the \"turn\" class, failing to differentiate between other classes.\n",
    "\n",
    "   The significant difference in performance is an example of model bias and failure to generalize: the model appears to heavily favor the \"turn\" class. This suggests the model has learned a bias toward \"turn\" that overpowers its ability to classify \"straight\" and \"rest\" correctly.\n",
    "\n",
    "2. \n",
    "   The poor performance on test_set2 (X2, y2) can be attributed to model bias, failure to generalize due to feature distribution differences, overfitting to training data, and potentially inadequate decision boundaries for all classes during training.\n",
    "\n",
    "   For example, in the two cells below, we can observe differences in means, standard deviations, and ranges for several features (ax_sum, ay_sum, gz_sum etc) for the `rest` class specifically. This confirms that the distributions in test_set2 differ from cv_set."
   ]
  },
  {
   "cell_type": "code",
   "execution_count": 21,
   "metadata": {},
   "outputs": [
    {
     "name": "stdout",
     "output_type": "stream",
     "text": [
      "Summary statistics for 'rest' in cv_set:\n",
      "\n"
     ]
    },
    {
     "data": {
      "text/html": [
       "<div>\n",
       "<style scoped>\n",
       "    .dataframe tbody tr th:only-of-type {\n",
       "        vertical-align: middle;\n",
       "    }\n",
       "\n",
       "    .dataframe tbody tr th {\n",
       "        vertical-align: top;\n",
       "    }\n",
       "\n",
       "    .dataframe thead th {\n",
       "        text-align: right;\n",
       "    }\n",
       "</style>\n",
       "<table border=\"1\" class=\"dataframe\">\n",
       "  <thead>\n",
       "    <tr style=\"text-align: right;\">\n",
       "      <th></th>\n",
       "      <th>ax_sum</th>\n",
       "      <th>ay_sum</th>\n",
       "      <th>az_sum</th>\n",
       "      <th>gx_sum</th>\n",
       "      <th>gy_sum</th>\n",
       "      <th>gz_sum</th>\n",
       "      <th>a_sum</th>\n",
       "      <th>g_sum</th>\n",
       "      <th>ax_var</th>\n",
       "      <th>ay_var</th>\n",
       "      <th>...</th>\n",
       "      <th>a_min</th>\n",
       "      <th>g_min</th>\n",
       "      <th>ax_max</th>\n",
       "      <th>ay_max</th>\n",
       "      <th>az_max</th>\n",
       "      <th>gx_max</th>\n",
       "      <th>gy_max</th>\n",
       "      <th>gz_max</th>\n",
       "      <th>a_max</th>\n",
       "      <th>g_max</th>\n",
       "    </tr>\n",
       "  </thead>\n",
       "  <tbody>\n",
       "    <tr>\n",
       "      <th>count</th>\n",
       "      <td>517.000000</td>\n",
       "      <td>517.000000</td>\n",
       "      <td>517.000000</td>\n",
       "      <td>517.000000</td>\n",
       "      <td>517.000000</td>\n",
       "      <td>517.000000</td>\n",
       "      <td>517.000000</td>\n",
       "      <td>517.000000</td>\n",
       "      <td>5.170000e+02</td>\n",
       "      <td>5.170000e+02</td>\n",
       "      <td>...</td>\n",
       "      <td>517.000000</td>\n",
       "      <td>517.000000</td>\n",
       "      <td>517.000000</td>\n",
       "      <td>517.000000</td>\n",
       "      <td>517.000000</td>\n",
       "      <td>517.000000</td>\n",
       "      <td>517.000000</td>\n",
       "      <td>517.000000</td>\n",
       "      <td>517.000000</td>\n",
       "      <td>517.000000</td>\n",
       "    </tr>\n",
       "    <tr>\n",
       "      <th>mean</th>\n",
       "      <td>0.078184</td>\n",
       "      <td>0.124857</td>\n",
       "      <td>9.783674</td>\n",
       "      <td>-0.002158</td>\n",
       "      <td>0.000157</td>\n",
       "      <td>-0.001575</td>\n",
       "      <td>9.801240</td>\n",
       "      <td>0.021403</td>\n",
       "      <td>1.210371e-06</td>\n",
       "      <td>1.308967e-07</td>\n",
       "      <td>...</td>\n",
       "      <td>0.024134</td>\n",
       "      <td>0.000006</td>\n",
       "      <td>0.002110</td>\n",
       "      <td>0.001100</td>\n",
       "      <td>0.024795</td>\n",
       "      <td>0.000121</td>\n",
       "      <td>0.000078</td>\n",
       "      <td>0.000076</td>\n",
       "      <td>0.024846</td>\n",
       "      <td>0.000143</td>\n",
       "    </tr>\n",
       "    <tr>\n",
       "      <th>std</th>\n",
       "      <td>0.313126</td>\n",
       "      <td>0.103521</td>\n",
       "      <td>0.006414</td>\n",
       "      <td>0.000693</td>\n",
       "      <td>0.000564</td>\n",
       "      <td>0.000560</td>\n",
       "      <td>0.003759</td>\n",
       "      <td>0.000658</td>\n",
       "      <td>1.556832e-07</td>\n",
       "      <td>7.160495e-08</td>\n",
       "      <td>...</td>\n",
       "      <td>0.000096</td>\n",
       "      <td>0.000002</td>\n",
       "      <td>0.000849</td>\n",
       "      <td>0.000349</td>\n",
       "      <td>0.000091</td>\n",
       "      <td>0.000015</td>\n",
       "      <td>0.000010</td>\n",
       "      <td>0.000010</td>\n",
       "      <td>0.000094</td>\n",
       "      <td>0.000014</td>\n",
       "    </tr>\n",
       "    <tr>\n",
       "      <th>min</th>\n",
       "      <td>-0.582320</td>\n",
       "      <td>-0.099982</td>\n",
       "      <td>9.754406</td>\n",
       "      <td>-0.004150</td>\n",
       "      <td>-0.002139</td>\n",
       "      <td>-0.003173</td>\n",
       "      <td>9.775991</td>\n",
       "      <td>0.019505</td>\n",
       "      <td>5.172373e-07</td>\n",
       "      <td>2.063139e-08</td>\n",
       "      <td>...</td>\n",
       "      <td>0.023589</td>\n",
       "      <td>0.000001</td>\n",
       "      <td>0.000351</td>\n",
       "      <td>0.000357</td>\n",
       "      <td>0.024633</td>\n",
       "      <td>0.000086</td>\n",
       "      <td>0.000058</td>\n",
       "      <td>0.000052</td>\n",
       "      <td>0.024669</td>\n",
       "      <td>0.000112</td>\n",
       "    </tr>\n",
       "    <tr>\n",
       "      <th>25%</th>\n",
       "      <td>-0.208788</td>\n",
       "      <td>0.073061</td>\n",
       "      <td>9.779810</td>\n",
       "      <td>-0.002648</td>\n",
       "      <td>-0.000217</td>\n",
       "      <td>-0.001935</td>\n",
       "      <td>9.800108</td>\n",
       "      <td>0.020941</td>\n",
       "      <td>1.123517e-06</td>\n",
       "      <td>8.296247e-08</td>\n",
       "      <td>...</td>\n",
       "      <td>0.024082</td>\n",
       "      <td>0.000005</td>\n",
       "      <td>0.001277</td>\n",
       "      <td>0.000905</td>\n",
       "      <td>0.024733</td>\n",
       "      <td>0.000110</td>\n",
       "      <td>0.000070</td>\n",
       "      <td>0.000069</td>\n",
       "      <td>0.024779</td>\n",
       "      <td>0.000133</td>\n",
       "    </tr>\n",
       "    <tr>\n",
       "      <th>50%</th>\n",
       "      <td>0.187432</td>\n",
       "      <td>0.110011</td>\n",
       "      <td>9.785791</td>\n",
       "      <td>-0.002158</td>\n",
       "      <td>0.000159</td>\n",
       "      <td>-0.001583</td>\n",
       "      <td>9.801258</td>\n",
       "      <td>0.021407</td>\n",
       "      <td>1.212973e-06</td>\n",
       "      <td>1.208452e-07</td>\n",
       "      <td>...</td>\n",
       "      <td>0.024157</td>\n",
       "      <td>0.000006</td>\n",
       "      <td>0.002307</td>\n",
       "      <td>0.001016</td>\n",
       "      <td>0.024777</td>\n",
       "      <td>0.000119</td>\n",
       "      <td>0.000077</td>\n",
       "      <td>0.000076</td>\n",
       "      <td>0.024824</td>\n",
       "      <td>0.000141</td>\n",
       "    </tr>\n",
       "    <tr>\n",
       "      <th>75%</th>\n",
       "      <td>0.240897</td>\n",
       "      <td>0.132071</td>\n",
       "      <td>9.788045</td>\n",
       "      <td>-0.001728</td>\n",
       "      <td>0.000572</td>\n",
       "      <td>-0.001177</td>\n",
       "      <td>9.802323</td>\n",
       "      <td>0.021842</td>\n",
       "      <td>1.306314e-06</td>\n",
       "      <td>1.571923e-07</td>\n",
       "      <td>...</td>\n",
       "      <td>0.024200</td>\n",
       "      <td>0.000008</td>\n",
       "      <td>0.002535</td>\n",
       "      <td>0.001185</td>\n",
       "      <td>0.024839</td>\n",
       "      <td>0.000131</td>\n",
       "      <td>0.000084</td>\n",
       "      <td>0.000082</td>\n",
       "      <td>0.024897</td>\n",
       "      <td>0.000151</td>\n",
       "    </tr>\n",
       "    <tr>\n",
       "      <th>max</th>\n",
       "      <td>0.551894</td>\n",
       "      <td>0.541385</td>\n",
       "      <td>9.805618</td>\n",
       "      <td>-0.000014</td>\n",
       "      <td>0.001850</td>\n",
       "      <td>0.000168</td>\n",
       "      <td>9.826729</td>\n",
       "      <td>0.023994</td>\n",
       "      <td>1.675834e-06</td>\n",
       "      <td>7.324846e-07</td>\n",
       "      <td>...</td>\n",
       "      <td>0.024352</td>\n",
       "      <td>0.000015</td>\n",
       "      <td>0.003716</td>\n",
       "      <td>0.003244</td>\n",
       "      <td>0.025375</td>\n",
       "      <td>0.000176</td>\n",
       "      <td>0.000121</td>\n",
       "      <td>0.000119</td>\n",
       "      <td>0.025437</td>\n",
       "      <td>0.000196</td>\n",
       "    </tr>\n",
       "  </tbody>\n",
       "</table>\n",
       "<p>8 rows × 32 columns</p>\n",
       "</div>"
      ],
      "text/plain": [
       "           ax_sum      ay_sum      az_sum      gx_sum      gy_sum      gz_sum  \\\n",
       "count  517.000000  517.000000  517.000000  517.000000  517.000000  517.000000   \n",
       "mean     0.078184    0.124857    9.783674   -0.002158    0.000157   -0.001575   \n",
       "std      0.313126    0.103521    0.006414    0.000693    0.000564    0.000560   \n",
       "min     -0.582320   -0.099982    9.754406   -0.004150   -0.002139   -0.003173   \n",
       "25%     -0.208788    0.073061    9.779810   -0.002648   -0.000217   -0.001935   \n",
       "50%      0.187432    0.110011    9.785791   -0.002158    0.000159   -0.001583   \n",
       "75%      0.240897    0.132071    9.788045   -0.001728    0.000572   -0.001177   \n",
       "max      0.551894    0.541385    9.805618   -0.000014    0.001850    0.000168   \n",
       "\n",
       "            a_sum       g_sum        ax_var        ay_var  ...       a_min  \\\n",
       "count  517.000000  517.000000  5.170000e+02  5.170000e+02  ...  517.000000   \n",
       "mean     9.801240    0.021403  1.210371e-06  1.308967e-07  ...    0.024134   \n",
       "std      0.003759    0.000658  1.556832e-07  7.160495e-08  ...    0.000096   \n",
       "min      9.775991    0.019505  5.172373e-07  2.063139e-08  ...    0.023589   \n",
       "25%      9.800108    0.020941  1.123517e-06  8.296247e-08  ...    0.024082   \n",
       "50%      9.801258    0.021407  1.212973e-06  1.208452e-07  ...    0.024157   \n",
       "75%      9.802323    0.021842  1.306314e-06  1.571923e-07  ...    0.024200   \n",
       "max      9.826729    0.023994  1.675834e-06  7.324846e-07  ...    0.024352   \n",
       "\n",
       "            g_min      ax_max      ay_max      az_max      gx_max      gy_max  \\\n",
       "count  517.000000  517.000000  517.000000  517.000000  517.000000  517.000000   \n",
       "mean     0.000006    0.002110    0.001100    0.024795    0.000121    0.000078   \n",
       "std      0.000002    0.000849    0.000349    0.000091    0.000015    0.000010   \n",
       "min      0.000001    0.000351    0.000357    0.024633    0.000086    0.000058   \n",
       "25%      0.000005    0.001277    0.000905    0.024733    0.000110    0.000070   \n",
       "50%      0.000006    0.002307    0.001016    0.024777    0.000119    0.000077   \n",
       "75%      0.000008    0.002535    0.001185    0.024839    0.000131    0.000084   \n",
       "max      0.000015    0.003716    0.003244    0.025375    0.000176    0.000121   \n",
       "\n",
       "           gz_max       a_max       g_max  \n",
       "count  517.000000  517.000000  517.000000  \n",
       "mean     0.000076    0.024846    0.000143  \n",
       "std      0.000010    0.000094    0.000014  \n",
       "min      0.000052    0.024669    0.000112  \n",
       "25%      0.000069    0.024779    0.000133  \n",
       "50%      0.000076    0.024824    0.000141  \n",
       "75%      0.000082    0.024897    0.000151  \n",
       "max      0.000119    0.025437    0.000196  \n",
       "\n",
       "[8 rows x 32 columns]"
      ]
     },
     "execution_count": 21,
     "metadata": {},
     "output_type": "execute_result"
    }
   ],
   "source": [
    "cv_set_rest = cv_set[cv_set[\"motion_state\"] == \"rest\"]\n",
    "test_set2_rest = test_set2[test_set2[\"motion_state\"] == \"rest\"]\n",
    "\n",
    "# summary statistics for the 'rest' class in cv_set\n",
    "print(\"Summary statistics for 'rest' in cv_set:\\n\")\n",
    "cv_set_rest.describe()"
   ]
  },
  {
   "cell_type": "code",
   "execution_count": 22,
   "metadata": {},
   "outputs": [
    {
     "name": "stdout",
     "output_type": "stream",
     "text": [
      "\n",
      "Summary statistics for 'rest' in test_set2:\n",
      "\n"
     ]
    },
    {
     "data": {
      "text/html": [
       "<div>\n",
       "<style scoped>\n",
       "    .dataframe tbody tr th:only-of-type {\n",
       "        vertical-align: middle;\n",
       "    }\n",
       "\n",
       "    .dataframe tbody tr th {\n",
       "        vertical-align: top;\n",
       "    }\n",
       "\n",
       "    .dataframe thead th {\n",
       "        text-align: right;\n",
       "    }\n",
       "</style>\n",
       "<table border=\"1\" class=\"dataframe\">\n",
       "  <thead>\n",
       "    <tr style=\"text-align: right;\">\n",
       "      <th></th>\n",
       "      <th>ax_sum</th>\n",
       "      <th>ay_sum</th>\n",
       "      <th>az_sum</th>\n",
       "      <th>gx_sum</th>\n",
       "      <th>gy_sum</th>\n",
       "      <th>gz_sum</th>\n",
       "      <th>a_sum</th>\n",
       "      <th>g_sum</th>\n",
       "      <th>ax_var</th>\n",
       "      <th>ay_var</th>\n",
       "      <th>...</th>\n",
       "      <th>a_min</th>\n",
       "      <th>g_min</th>\n",
       "      <th>ax_max</th>\n",
       "      <th>ay_max</th>\n",
       "      <th>az_max</th>\n",
       "      <th>gx_max</th>\n",
       "      <th>gy_max</th>\n",
       "      <th>gz_max</th>\n",
       "      <th>a_max</th>\n",
       "      <th>g_max</th>\n",
       "    </tr>\n",
       "  </thead>\n",
       "  <tbody>\n",
       "    <tr>\n",
       "      <th>count</th>\n",
       "      <td>16.000000</td>\n",
       "      <td>16.000000</td>\n",
       "      <td>16.000000</td>\n",
       "      <td>16.000000</td>\n",
       "      <td>16.000000</td>\n",
       "      <td>16.000000</td>\n",
       "      <td>16.000000</td>\n",
       "      <td>16.000000</td>\n",
       "      <td>1.600000e+01</td>\n",
       "      <td>1.600000e+01</td>\n",
       "      <td>...</td>\n",
       "      <td>16.000000</td>\n",
       "      <td>16.000000</td>\n",
       "      <td>16.000000</td>\n",
       "      <td>16.000000</td>\n",
       "      <td>16.000000</td>\n",
       "      <td>16.000000</td>\n",
       "      <td>16.000000</td>\n",
       "      <td>16.000000</td>\n",
       "      <td>16.000000</td>\n",
       "      <td>16.000000</td>\n",
       "    </tr>\n",
       "    <tr>\n",
       "      <th>mean</th>\n",
       "      <td>-0.047552</td>\n",
       "      <td>0.313710</td>\n",
       "      <td>9.790803</td>\n",
       "      <td>-0.002728</td>\n",
       "      <td>0.002288</td>\n",
       "      <td>-0.002643</td>\n",
       "      <td>9.800630</td>\n",
       "      <td>0.012786</td>\n",
       "      <td>2.114008e-06</td>\n",
       "      <td>1.991211e-07</td>\n",
       "      <td>...</td>\n",
       "      <td>0.046371</td>\n",
       "      <td>0.000010</td>\n",
       "      <td>0.002406</td>\n",
       "      <td>0.002702</td>\n",
       "      <td>0.051560</td>\n",
       "      <td>0.000101</td>\n",
       "      <td>0.000113</td>\n",
       "      <td>0.000082</td>\n",
       "      <td>0.051634</td>\n",
       "      <td>0.000154</td>\n",
       "    </tr>\n",
       "    <tr>\n",
       "      <th>std</th>\n",
       "      <td>0.003779</td>\n",
       "      <td>0.012481</td>\n",
       "      <td>0.003955</td>\n",
       "      <td>0.000505</td>\n",
       "      <td>0.000551</td>\n",
       "      <td>0.000586</td>\n",
       "      <td>0.003892</td>\n",
       "      <td>0.000376</td>\n",
       "      <td>4.951322e-07</td>\n",
       "      <td>1.532236e-07</td>\n",
       "      <td>...</td>\n",
       "      <td>0.001068</td>\n",
       "      <td>0.000004</td>\n",
       "      <td>0.000473</td>\n",
       "      <td>0.000603</td>\n",
       "      <td>0.001058</td>\n",
       "      <td>0.000023</td>\n",
       "      <td>0.000012</td>\n",
       "      <td>0.000011</td>\n",
       "      <td>0.001050</td>\n",
       "      <td>0.000012</td>\n",
       "    </tr>\n",
       "    <tr>\n",
       "      <th>min</th>\n",
       "      <td>-0.055452</td>\n",
       "      <td>0.305907</td>\n",
       "      <td>9.782088</td>\n",
       "      <td>-0.003759</td>\n",
       "      <td>0.001311</td>\n",
       "      <td>-0.004016</td>\n",
       "      <td>9.791608</td>\n",
       "      <td>0.012217</td>\n",
       "      <td>1.071256e-06</td>\n",
       "      <td>5.710469e-08</td>\n",
       "      <td>...</td>\n",
       "      <td>0.044736</td>\n",
       "      <td>0.000004</td>\n",
       "      <td>0.001666</td>\n",
       "      <td>0.002141</td>\n",
       "      <td>0.049701</td>\n",
       "      <td>0.000074</td>\n",
       "      <td>0.000096</td>\n",
       "      <td>0.000059</td>\n",
       "      <td>0.049764</td>\n",
       "      <td>0.000132</td>\n",
       "    </tr>\n",
       "    <tr>\n",
       "      <th>25%</th>\n",
       "      <td>-0.050191</td>\n",
       "      <td>0.308979</td>\n",
       "      <td>9.788383</td>\n",
       "      <td>-0.002980</td>\n",
       "      <td>0.001895</td>\n",
       "      <td>-0.003048</td>\n",
       "      <td>9.798080</td>\n",
       "      <td>0.012487</td>\n",
       "      <td>1.872385e-06</td>\n",
       "      <td>1.282325e-07</td>\n",
       "      <td>...</td>\n",
       "      <td>0.045662</td>\n",
       "      <td>0.000007</td>\n",
       "      <td>0.002211</td>\n",
       "      <td>0.002375</td>\n",
       "      <td>0.050438</td>\n",
       "      <td>0.000088</td>\n",
       "      <td>0.000107</td>\n",
       "      <td>0.000077</td>\n",
       "      <td>0.050664</td>\n",
       "      <td>0.000146</td>\n",
       "    </tr>\n",
       "    <tr>\n",
       "      <th>50%</th>\n",
       "      <td>-0.047541</td>\n",
       "      <td>0.310405</td>\n",
       "      <td>9.790978</td>\n",
       "      <td>-0.002553</td>\n",
       "      <td>0.002305</td>\n",
       "      <td>-0.002638</td>\n",
       "      <td>9.800497</td>\n",
       "      <td>0.012755</td>\n",
       "      <td>2.162247e-06</td>\n",
       "      <td>1.517817e-07</td>\n",
       "      <td>...</td>\n",
       "      <td>0.045958</td>\n",
       "      <td>0.000011</td>\n",
       "      <td>0.002343</td>\n",
       "      <td>0.002440</td>\n",
       "      <td>0.052008</td>\n",
       "      <td>0.000096</td>\n",
       "      <td>0.000112</td>\n",
       "      <td>0.000080</td>\n",
       "      <td>0.052075</td>\n",
       "      <td>0.000155</td>\n",
       "    </tr>\n",
       "    <tr>\n",
       "      <th>75%</th>\n",
       "      <td>-0.044947</td>\n",
       "      <td>0.311304</td>\n",
       "      <td>9.794282</td>\n",
       "      <td>-0.002400</td>\n",
       "      <td>0.002669</td>\n",
       "      <td>-0.002222</td>\n",
       "      <td>9.803854</td>\n",
       "      <td>0.012906</td>\n",
       "      <td>2.388035e-06</td>\n",
       "      <td>1.931158e-07</td>\n",
       "      <td>...</td>\n",
       "      <td>0.047277</td>\n",
       "      <td>0.000014</td>\n",
       "      <td>0.002515</td>\n",
       "      <td>0.002879</td>\n",
       "      <td>0.052354</td>\n",
       "      <td>0.000105</td>\n",
       "      <td>0.000117</td>\n",
       "      <td>0.000084</td>\n",
       "      <td>0.052410</td>\n",
       "      <td>0.000163</td>\n",
       "    </tr>\n",
       "    <tr>\n",
       "      <th>max</th>\n",
       "      <td>-0.040543</td>\n",
       "      <td>0.358398</td>\n",
       "      <td>9.797019</td>\n",
       "      <td>-0.002070</td>\n",
       "      <td>0.003149</td>\n",
       "      <td>-0.001776</td>\n",
       "      <td>9.806844</td>\n",
       "      <td>0.013805</td>\n",
       "      <td>2.941472e-06</td>\n",
       "      <td>6.859937e-07</td>\n",
       "      <td>...</td>\n",
       "      <td>0.048406</td>\n",
       "      <td>0.000017</td>\n",
       "      <td>0.003880</td>\n",
       "      <td>0.004130</td>\n",
       "      <td>0.053072</td>\n",
       "      <td>0.000157</td>\n",
       "      <td>0.000140</td>\n",
       "      <td>0.000111</td>\n",
       "      <td>0.053132</td>\n",
       "      <td>0.000174</td>\n",
       "    </tr>\n",
       "  </tbody>\n",
       "</table>\n",
       "<p>8 rows × 32 columns</p>\n",
       "</div>"
      ],
      "text/plain": [
       "          ax_sum     ay_sum     az_sum     gx_sum     gy_sum     gz_sum  \\\n",
       "count  16.000000  16.000000  16.000000  16.000000  16.000000  16.000000   \n",
       "mean   -0.047552   0.313710   9.790803  -0.002728   0.002288  -0.002643   \n",
       "std     0.003779   0.012481   0.003955   0.000505   0.000551   0.000586   \n",
       "min    -0.055452   0.305907   9.782088  -0.003759   0.001311  -0.004016   \n",
       "25%    -0.050191   0.308979   9.788383  -0.002980   0.001895  -0.003048   \n",
       "50%    -0.047541   0.310405   9.790978  -0.002553   0.002305  -0.002638   \n",
       "75%    -0.044947   0.311304   9.794282  -0.002400   0.002669  -0.002222   \n",
       "max    -0.040543   0.358398   9.797019  -0.002070   0.003149  -0.001776   \n",
       "\n",
       "           a_sum      g_sum        ax_var        ay_var  ...      a_min  \\\n",
       "count  16.000000  16.000000  1.600000e+01  1.600000e+01  ...  16.000000   \n",
       "mean    9.800630   0.012786  2.114008e-06  1.991211e-07  ...   0.046371   \n",
       "std     0.003892   0.000376  4.951322e-07  1.532236e-07  ...   0.001068   \n",
       "min     9.791608   0.012217  1.071256e-06  5.710469e-08  ...   0.044736   \n",
       "25%     9.798080   0.012487  1.872385e-06  1.282325e-07  ...   0.045662   \n",
       "50%     9.800497   0.012755  2.162247e-06  1.517817e-07  ...   0.045958   \n",
       "75%     9.803854   0.012906  2.388035e-06  1.931158e-07  ...   0.047277   \n",
       "max     9.806844   0.013805  2.941472e-06  6.859937e-07  ...   0.048406   \n",
       "\n",
       "           g_min     ax_max     ay_max     az_max     gx_max     gy_max  \\\n",
       "count  16.000000  16.000000  16.000000  16.000000  16.000000  16.000000   \n",
       "mean    0.000010   0.002406   0.002702   0.051560   0.000101   0.000113   \n",
       "std     0.000004   0.000473   0.000603   0.001058   0.000023   0.000012   \n",
       "min     0.000004   0.001666   0.002141   0.049701   0.000074   0.000096   \n",
       "25%     0.000007   0.002211   0.002375   0.050438   0.000088   0.000107   \n",
       "50%     0.000011   0.002343   0.002440   0.052008   0.000096   0.000112   \n",
       "75%     0.000014   0.002515   0.002879   0.052354   0.000105   0.000117   \n",
       "max     0.000017   0.003880   0.004130   0.053072   0.000157   0.000140   \n",
       "\n",
       "          gz_max      a_max      g_max  \n",
       "count  16.000000  16.000000  16.000000  \n",
       "mean    0.000082   0.051634   0.000154  \n",
       "std     0.000011   0.001050   0.000012  \n",
       "min     0.000059   0.049764   0.000132  \n",
       "25%     0.000077   0.050664   0.000146  \n",
       "50%     0.000080   0.052075   0.000155  \n",
       "75%     0.000084   0.052410   0.000163  \n",
       "max     0.000111   0.053132   0.000174  \n",
       "\n",
       "[8 rows x 32 columns]"
      ]
     },
     "execution_count": 22,
     "metadata": {},
     "output_type": "execute_result"
    }
   ],
   "source": [
    "# summary statistics for the 'rest' class in test_set2\n",
    "print(\"\\nSummary statistics for 'rest' in test_set2:\\n\")\n",
    "test_set2_rest.describe()"
   ]
  },
  {
   "cell_type": "markdown",
   "metadata": {},
   "source": [
    "___"
   ]
  },
  {
   "cell_type": "markdown",
   "metadata": {},
   "source": [
    "## Section 2 - Classification Using *Selected Features* Derived From Inertial Sensor Data (12 Marks)"
   ]
  },
  {
   "cell_type": "markdown",
   "metadata": {},
   "source": [
    "In this second section, an *SVC* model will be trained and tuned using grid search, however, only *selected features* will be used."
   ]
  },
  {
   "cell_type": "markdown",
   "metadata": {},
   "source": [
    "___"
   ]
  },
  {
   "cell_type": "markdown",
   "metadata": {},
   "source": [
    "### 2.1 Grid Search with Cross Validation (5 Marks)"
   ]
  },
  {
   "cell_type": "markdown",
   "metadata": {},
   "source": [
    "___"
   ]
  },
  {
   "cell_type": "markdown",
   "metadata": {},
   "source": [
    "#### 2.1.1 Extract *selected* features and target from *cv_set*"
   ]
  },
  {
   "cell_type": "markdown",
   "metadata": {},
   "source": [
    "From the *cv_set* dataframe, extract the selected features, listed below, and load them in a new dataframe *X*.\n",
    "* *ax_var* - variance of accelerometer readings in x\n",
    "* *ay_var* - variance of accelerometer readings in y\n",
    "* *az_sum* - sum of accelerometer z readings\n",
    "* *a_sum* - sum of the norm of accelerometer x, y, z readings\n",
    "* *gz_var* - variance of gyroscope reading in z"
   ]
  },
  {
   "cell_type": "code",
   "execution_count": 23,
   "metadata": {},
   "outputs": [
    {
     "data": {
      "text/html": [
       "<div>\n",
       "<style scoped>\n",
       "    .dataframe tbody tr th:only-of-type {\n",
       "        vertical-align: middle;\n",
       "    }\n",
       "\n",
       "    .dataframe tbody tr th {\n",
       "        vertical-align: top;\n",
       "    }\n",
       "\n",
       "    .dataframe thead th {\n",
       "        text-align: right;\n",
       "    }\n",
       "</style>\n",
       "<table border=\"1\" class=\"dataframe\">\n",
       "  <thead>\n",
       "    <tr style=\"text-align: right;\">\n",
       "      <th></th>\n",
       "      <th>ax_var</th>\n",
       "      <th>ay_var</th>\n",
       "      <th>az_sum</th>\n",
       "      <th>a_sum</th>\n",
       "      <th>gz_var</th>\n",
       "    </tr>\n",
       "  </thead>\n",
       "  <tbody>\n",
       "    <tr>\n",
       "      <th>0</th>\n",
       "      <td>8.046094e-07</td>\n",
       "      <td>1.319665e-07</td>\n",
       "      <td>9.789349</td>\n",
       "      <td>9.797418</td>\n",
       "      <td>7.446916e-10</td>\n",
       "    </tr>\n",
       "    <tr>\n",
       "      <th>1</th>\n",
       "      <td>1.032619e-06</td>\n",
       "      <td>1.073067e-07</td>\n",
       "      <td>9.789095</td>\n",
       "      <td>9.798815</td>\n",
       "      <td>6.983481e-10</td>\n",
       "    </tr>\n",
       "  </tbody>\n",
       "</table>\n",
       "</div>"
      ],
      "text/plain": [
       "         ax_var        ay_var    az_sum     a_sum        gz_var\n",
       "0  8.046094e-07  1.319665e-07  9.789349  9.797418  7.446916e-10\n",
       "1  1.032619e-06  1.073067e-07  9.789095  9.798815  6.983481e-10"
      ]
     },
     "execution_count": 23,
     "metadata": {},
     "output_type": "execute_result"
    }
   ],
   "source": [
    "# TODO - Load selected features from cv_set to X\n",
    "# (1 marks)\n",
    "X = cv_set[['ax_var', 'ay_var', 'az_sum', 'a_sum', 'gz_var']]\n",
    "X.head(2)"
   ]
  },
  {
   "cell_type": "code",
   "execution_count": 24,
   "metadata": {},
   "outputs": [],
   "source": [
    "# TODO - Load motion_state column (target vector) into y\n",
    "y = cv_set['motion_state']"
   ]
  },
  {
   "cell_type": "markdown",
   "metadata": {},
   "source": [
    "___"
   ]
  },
  {
   "cell_type": "markdown",
   "metadata": {},
   "source": [
    "#### 2.1.2 - Configure and Perform Grid Search with Cross-Validation"
   ]
  },
  {
   "cell_type": "markdown",
   "metadata": {},
   "source": [
    "Follow the steps from **1.2.2** and perform model training and tuning using the selected feature set."
   ]
  },
  {
   "cell_type": "code",
   "execution_count": 25,
   "metadata": {},
   "outputs": [
    {
     "data": {
      "text/plain": [
       "GridSearchCV(cv=5,\n",
       "             estimator=Pipeline(steps=[('scaler', StandardScaler()),\n",
       "                                       ('classifier', SVC())]),\n",
       "             param_grid={'classifier__C': [0.01, 0.1, 1, 10, 100],\n",
       "                         'classifier__gamma': [0.001, 0.01, 0.1, 1],\n",
       "                         'classifier__kernel': ['rbf'],\n",
       "                         'scaler': [StandardScaler(), RobustScaler(), None]},\n",
       "             return_train_score=True, scoring='accuracy')"
      ]
     },
     "execution_count": 25,
     "metadata": {},
     "output_type": "execute_result"
    }
   ],
   "source": [
    "# TODO - Perform model training and tuning using `GridSearchCV`\n",
    "\n",
    "X_train, X_test, y_train, y_test = train_test_split(\n",
    "    X, y, test_size=0.30, random_state=42, stratify=y\n",
    ")\n",
    "\n",
    "pipe = Pipeline([\n",
    "    ('scaler', StandardScaler()),  \n",
    "    ('classifier', SVC())  \n",
    "])\n",
    "\n",
    "param_grid = {\n",
    "    'scaler': [StandardScaler(), RobustScaler(), None],  \n",
    "    'classifier__C': [0.01, 0.1, 1, 10, 100],  \n",
    "    'classifier__gamma': [0.001, 0.01, 0.1, 1],  \n",
    "    'classifier__kernel': ['rbf']  \n",
    "}\n",
    "\n",
    "grid = GridSearchCV(\n",
    "    pipe,  \n",
    "    param_grid, \n",
    "    cv=5,  \n",
    "    scoring='accuracy', \n",
    "    return_train_score=True  \n",
    ")\n",
    "\n",
    "grid.fit(X_train, y_train)"
   ]
  },
  {
   "cell_type": "markdown",
   "metadata": {},
   "source": [
    "___"
   ]
  },
  {
   "cell_type": "markdown",
   "metadata": {},
   "source": [
    "#### 2.1.3 - Visualize Grid Search Results"
   ]
  },
  {
   "cell_type": "markdown",
   "metadata": {},
   "source": [
    "Print the results from the grid search. The following outputs must be printed.\n",
    "* Best parameter set\n",
    "* Best cross-validation train score\n",
    "* Best cross-validation test score\n",
    "* Test set accuracy"
   ]
  },
  {
   "cell_type": "code",
   "execution_count": 26,
   "metadata": {},
   "outputs": [
    {
     "name": "stdout",
     "output_type": "stream",
     "text": [
      "Best params:\n",
      "{'classifier__C': 100, 'classifier__gamma': 0.01, 'classifier__kernel': 'rbf', 'scaler': RobustScaler()}\n",
      "Best cross-validation train score: 0.82\n",
      "Best cross-validation test score: 0.83\n",
      "Test-set score: 0.83\n"
     ]
    }
   ],
   "source": [
    "# Print the results from the grid search\n",
    "\n",
    "print(\"Best params:\\n{}\".format(grid.best_params_))\n",
    "print(\"Best cross-validation train score: {:.2f}\".format(grid.best_score_))\n",
    "print(\"Best cross-validation test score: {:.2f}\".format(grid.best_estimator_.score(X_test, y_test)))\n",
    "\n",
    "test_score = grid.score(X_test, y_test)\n",
    "print(\"Test-set score: {:.2f}\".format(test_score))"
   ]
  },
  {
   "cell_type": "code",
   "execution_count": 27,
   "metadata": {},
   "outputs": [],
   "source": [
    "## The test set (X_test, y_test) and the cross-validation set (from X_train during the grid search) are fairly similar, \n",
    "## and thus the model's performance on both is nearly identical."
   ]
  },
  {
   "cell_type": "markdown",
   "metadata": {},
   "source": [
    "Display the confusion matrix and print the classification report for the trained model using the *test* split. "
   ]
  },
  {
   "cell_type": "code",
   "execution_count": 28,
   "metadata": {},
   "outputs": [
    {
     "data": {
      "image/png": "[encoded data removed]",
      "text/plain": [
       "<Figure size 576x432 with 2 Axes>"
      ]
     },
     "metadata": {
      "needs_background": "light"
     },
     "output_type": "display_data"
    },
    {
     "name": "stdout",
     "output_type": "stream",
     "text": [
      "Classification Report:\n",
      "\n",
      "              precision    recall  f1-score   support\n",
      "\n",
      "        rest       0.94      0.99      0.96       155\n",
      "    straight       0.97      0.93      0.95       207\n",
      "        turn       0.95      0.97      0.96        99\n",
      "\n",
      "    accuracy                           0.96       461\n",
      "   macro avg       0.95      0.96      0.96       461\n",
      "weighted avg       0.96      0.96      0.96       461\n",
      "\n"
     ]
    }
   ],
   "source": [
    "# TODO - Display confusion matrix and print classification reports\n",
    "conf_matrix = confusion_matrix(y_test, y_pred)\n",
    "\n",
    "plt.figure(figsize=(8, 6))\n",
    "sns.heatmap(conf_matrix, annot=True, fmt='d', cmap='Blues', xticklabels=set(y_test), yticklabels=set(y_test))\n",
    "plt.title(\"Confusion Matrix\")\n",
    "plt.xlabel(\"Predicted Label\")\n",
    "plt.ylabel(\"True Label\")\n",
    "plt.show()\n",
    "\n",
    "class_report = classification_report(y_test, y_pred)\n",
    "print(\"Classification Report:\\n\")\n",
    "print(class_report)"
   ]
  },
  {
   "cell_type": "markdown",
   "metadata": {},
   "source": [
    "___"
   ]
  },
  {
   "cell_type": "markdown",
   "metadata": {},
   "source": [
    "#### 2.1.4 - Question"
   ]
  },
  {
   "cell_type": "markdown",
   "metadata": {},
   "source": [
    "\n",
    "1. Consider the differences between the performance on the training/cross-validation dataset for section 1 (1.2.3) and section 2 (2.1.3). Which model is a better fit based on *just these two evaluations*? (4 marks)"
   ]
  },
  {
   "cell_type": "markdown",
   "metadata": {},
   "source": [
    "#### 2.1.4 Answer \n",
    "1. \n",
    "The model in Section 1.2.3 is the better fit. The best cross-validation train score is 1.00, so it demonstrates strong generalization. The model achieves a high best cross-validation validation score of 0.95. <br>\n",
    "In contrast, the model in Section 2.1.3 shows lower performance, with a best cross-validation train score of 0.82, a best cross-validation test score of 0.83. This indicates that Section 2’s model is slightly underfitting and generalizes worse than the model in 1.2.3."
   ]
  },
  {
   "cell_type": "markdown",
   "metadata": {},
   "source": [
    "___"
   ]
  },
  {
   "cell_type": "markdown",
   "metadata": {},
   "source": [
    "### 2.2 - Model Evaluation on Test Datasets 1 and 2 (7 Marks)"
   ]
  },
  {
   "cell_type": "markdown",
   "metadata": {},
   "source": [
    "___"
   ]
  },
  {
   "cell_type": "markdown",
   "metadata": {},
   "source": [
    "#### 2.2.1 - Extract selected features and targets from test datasets"
   ]
  },
  {
   "cell_type": "markdown",
   "metadata": {},
   "source": [
    "The model trained in 2.1 is to be tested on the independent datasets, that is test_set1 and test_set2. \n",
    "Seperate the testsets into the selected features and target vectors *(X1, y1)* and (X2,)"
   ]
  },
  {
   "cell_type": "code",
   "execution_count": 29,
   "metadata": {},
   "outputs": [
    {
     "data": {
      "text/html": [
       "<div>\n",
       "<style scoped>\n",
       "    .dataframe tbody tr th:only-of-type {\n",
       "        vertical-align: middle;\n",
       "    }\n",
       "\n",
       "    .dataframe tbody tr th {\n",
       "        vertical-align: top;\n",
       "    }\n",
       "\n",
       "    .dataframe thead th {\n",
       "        text-align: right;\n",
       "    }\n",
       "</style>\n",
       "<table border=\"1\" class=\"dataframe\">\n",
       "  <thead>\n",
       "    <tr style=\"text-align: right;\">\n",
       "      <th></th>\n",
       "      <th>ax_var</th>\n",
       "      <th>ay_var</th>\n",
       "      <th>az_sum</th>\n",
       "      <th>a_sum</th>\n",
       "      <th>gz_var</th>\n",
       "    </tr>\n",
       "  </thead>\n",
       "  <tbody>\n",
       "    <tr>\n",
       "      <th>0</th>\n",
       "      <td>0.000001</td>\n",
       "      <td>7.749919e-08</td>\n",
       "      <td>9.786930</td>\n",
       "      <td>9.801661</td>\n",
       "      <td>7.727190e-10</td>\n",
       "    </tr>\n",
       "    <tr>\n",
       "      <th>1</th>\n",
       "      <td>0.000001</td>\n",
       "      <td>9.243000e-08</td>\n",
       "      <td>9.788127</td>\n",
       "      <td>9.802481</td>\n",
       "      <td>8.871433e-10</td>\n",
       "    </tr>\n",
       "  </tbody>\n",
       "</table>\n",
       "</div>"
      ],
      "text/plain": [
       "     ax_var        ay_var    az_sum     a_sum        gz_var\n",
       "0  0.000001  7.749919e-08  9.786930  9.801661  7.727190e-10\n",
       "1  0.000001  9.243000e-08  9.788127  9.802481  8.871433e-10"
      ]
     },
     "execution_count": 29,
     "metadata": {},
     "output_type": "execute_result"
    }
   ],
   "source": [
    "# TODO - Load the target vector from test_set1 into y1, and the selected features from test_set1 into X1\n",
    "y1 = test_set1['motion_state']\n",
    "X1 = test_set1[['ax_var', 'ay_var', 'az_sum', 'a_sum', 'gz_var']]\n",
    "\n",
    "# Display the first 2 rows of X1\n",
    "X1.head(2)"
   ]
  },
  {
   "cell_type": "code",
   "execution_count": 30,
   "metadata": {},
   "outputs": [
    {
     "data": {
      "text/html": [
       "<div>\n",
       "<style scoped>\n",
       "    .dataframe tbody tr th:only-of-type {\n",
       "        vertical-align: middle;\n",
       "    }\n",
       "\n",
       "    .dataframe tbody tr th {\n",
       "        vertical-align: top;\n",
       "    }\n",
       "\n",
       "    .dataframe thead th {\n",
       "        text-align: right;\n",
       "    }\n",
       "</style>\n",
       "<table border=\"1\" class=\"dataframe\">\n",
       "  <thead>\n",
       "    <tr style=\"text-align: right;\">\n",
       "      <th></th>\n",
       "      <th>ax_var</th>\n",
       "      <th>ay_var</th>\n",
       "      <th>az_sum</th>\n",
       "      <th>a_sum</th>\n",
       "      <th>gz_var</th>\n",
       "    </tr>\n",
       "  </thead>\n",
       "  <tbody>\n",
       "    <tr>\n",
       "      <th>0</th>\n",
       "      <td>0.000002</td>\n",
       "      <td>3.020959e-07</td>\n",
       "      <td>9.791451</td>\n",
       "      <td>9.800683</td>\n",
       "      <td>1.405038e-09</td>\n",
       "    </tr>\n",
       "    <tr>\n",
       "      <th>1</th>\n",
       "      <td>0.000003</td>\n",
       "      <td>6.859937e-07</td>\n",
       "      <td>9.785619</td>\n",
       "      <td>9.797741</td>\n",
       "      <td>1.164381e-09</td>\n",
       "    </tr>\n",
       "  </tbody>\n",
       "</table>\n",
       "</div>"
      ],
      "text/plain": [
       "     ax_var        ay_var    az_sum     a_sum        gz_var\n",
       "0  0.000002  3.020959e-07  9.791451  9.800683  1.405038e-09\n",
       "1  0.000003  6.859937e-07  9.785619  9.797741  1.164381e-09"
      ]
     },
     "execution_count": 30,
     "metadata": {},
     "output_type": "execute_result"
    }
   ],
   "source": [
    "# TODO - Load the target vector from test_set2 into y2, and the selected features from test_set2 into X2\n",
    "y2 = test_set2['motion_state']\n",
    "X2 = test_set2[['ax_var', 'ay_var', 'az_sum', 'a_sum', 'gz_var']]\n",
    "\n",
    "# Display the first 2 rows of X2\n",
    "X2.head(2)"
   ]
  },
  {
   "cell_type": "markdown",
   "metadata": {},
   "source": [
    "___"
   ]
  },
  {
   "cell_type": "markdown",
   "metadata": {},
   "source": [
    "#### 2.2.2 - Visualize Results"
   ]
  },
  {
   "cell_type": "markdown",
   "metadata": {},
   "source": [
    "For each test dataset, print the test set accuracy score. "
   ]
  },
  {
   "cell_type": "code",
   "execution_count": 31,
   "metadata": {},
   "outputs": [
    {
     "name": "stdout",
     "output_type": "stream",
     "text": [
      "test_set1 score: 0.83\n",
      "test_set2 score: 0.84\n"
     ]
    }
   ],
   "source": [
    "# TODO - Print test score accuracies for test_set1 and test_set2\n",
    "\n",
    "test_score1 = grid.score(X1, y1)  # Accuracy on test_set1\n",
    "print(\"test_set1 score: {:.2f}\".format(test_score1))\n",
    "\n",
    "test_score2 = grid.score(X2, y2)  # Accuracy on test_set2\n",
    "print(\"test_set2 score: {:.2f}\".format(test_score2))"
   ]
  },
  {
   "cell_type": "markdown",
   "metadata": {},
   "source": [
    "Display the confusion matrix and print the classification for test_set 1 *(X1, y1)*"
   ]
  },
  {
   "cell_type": "code",
   "execution_count": 32,
   "metadata": {},
   "outputs": [
    {
     "data": {
      "image/png": "[encoded data removed]",
      "text/plain": [
       "<Figure size 576x432 with 2 Axes>"
      ]
     },
     "metadata": {
      "needs_background": "light"
     },
     "output_type": "display_data"
    },
    {
     "name": "stdout",
     "output_type": "stream",
     "text": [
      "Classification Report for test_set1:\n",
      "\n",
      "              precision    recall  f1-score   support\n",
      "\n",
      "        rest       0.90      0.99      0.94       231\n",
      "    straight       0.85      0.82      0.83       411\n",
      "        turn       0.63      0.60      0.61       141\n",
      "\n",
      "    accuracy                           0.83       783\n",
      "   macro avg       0.79      0.80      0.80       783\n",
      "weighted avg       0.83      0.83      0.83       783\n",
      "\n"
     ]
    }
   ],
   "source": [
    "# TODO - Display confusion matrix and print classification report for (X1, y1)\n",
    "# (1 mark)\n",
    "\n",
    "y1_pred = grid.best_estimator_.predict(X1)\n",
    "\n",
    "conf_matrix1 = confusion_matrix(y1, y1_pred)\n",
    "\n",
    "plt.figure(figsize=(8, 6))\n",
    "sns.heatmap(conf_matrix1, annot=True, fmt='d', cmap='Blues', xticklabels=grid.best_estimator_.classes_, yticklabels=grid.best_estimator_.classes_)\n",
    "plt.xlabel('Predicted Labels')\n",
    "plt.ylabel('True Labels')\n",
    "plt.title('Confusion Matrix for test_set1')\n",
    "plt.show()\n",
    "\n",
    "class_labels = sorted(y1.unique())  \n",
    "\n",
    "print(\"Classification Report for test_set1:\\n\")\n",
    "print(classification_report(y1, y1_pred, target_names=[str(label) for label in class_labels]))"
   ]
  },
  {
   "cell_type": "markdown",
   "metadata": {},
   "source": [
    "Display the confusion matrix and print the classification for test_set 2 *(X2, y2)*"
   ]
  },
  {
   "cell_type": "code",
   "execution_count": 33,
   "metadata": {},
   "outputs": [
    {
     "data": {
      "image/png": "[encoded data removed]",
      "text/plain": [
       "<Figure size 576x432 with 2 Axes>"
      ]
     },
     "metadata": {
      "needs_background": "light"
     },
     "output_type": "display_data"
    },
    {
     "name": "stdout",
     "output_type": "stream",
     "text": [
      "Classification Report for test_set2:\n",
      "\n",
      "              precision    recall  f1-score   support\n",
      "\n",
      "        rest       1.00      0.94      0.97        16\n",
      "    straight       0.90      0.86      0.88       206\n",
      "        turn       0.67      0.76      0.71        75\n",
      "\n",
      "    accuracy                           0.84       297\n",
      "   macro avg       0.86      0.85      0.85       297\n",
      "weighted avg       0.85      0.84      0.84       297\n",
      "\n"
     ]
    }
   ],
   "source": [
    "# TODO - Display confusion matrix and print classification report for (X2, y2)\n",
    "\n",
    "y2_pred = grid.best_estimator_.predict(X2)\n",
    "\n",
    "conf_matrix2 = confusion_matrix(y2, y2_pred)\n",
    "\n",
    "plt.figure(figsize=(8, 6))\n",
    "sns.heatmap(conf_matrix2, annot=True, fmt='d', cmap='Blues', xticklabels=grid.best_estimator_.classes_, yticklabels=grid.best_estimator_.classes_)\n",
    "plt.xlabel('Predicted Labels')\n",
    "plt.ylabel('True Labels')\n",
    "plt.title('Confusion Matrix for test_set2')\n",
    "plt.show()\n",
    "\n",
    "class_labels = sorted(y2.unique()) \n",
    "\n",
    "print(\"Classification Report for test_set2:\\n\")\n",
    "print(classification_report(y2, y2_pred, target_names=[str(label) for label in class_labels]))"
   ]
  },
  {
   "cell_type": "markdown",
   "metadata": {},
   "source": [
    "___"
   ]
  },
  {
   "cell_type": "markdown",
   "metadata": {},
   "source": [
    "#### 2.2.3 Questions"
   ]
  },
  {
   "cell_type": "markdown",
   "metadata": {},
   "source": [
    "1. For section 2, compare between the model's performance on the training/validation (2.1) set to the the performance on the two testing sets (2.2). How does the model fit? (3 marks)\n",
    "1. Compare the models' performances and fits between section 1 and section 2, and consider all three datasets. (3 marks)"
   ]
  },
  {
   "cell_type": "markdown",
   "metadata": {},
   "source": [
    "#### 2.2.3 Answers\n",
    "1. The model performs well with a training score of 0.82, validation score of 0.83, and test-set scores of 0.83 and 0.84. It proves consistent performance across all datasets.\n",
    "\n",
    "2. In Section 1, the test-set score is 0.96 and test_set1 is at 0.92 which is a great performance, but we observe poor performance on test_set2 (0.25) - strong overfitting. In Section 2, the model is more consistent with a test-set score of 0.83, test_set1 at 0.83, and test_set2 at 0.84. It shows a better fit across all datasets."
   ]
  },
  {
   "cell_type": "markdown",
   "metadata": {},
   "source": [
    "____"
   ]
  },
  {
   "cell_type": "markdown",
   "metadata": {},
   "source": [
    "## Section 3 - Classification Using *Group Selected Features* From Inertial Sensor Data (10 Marks)"
   ]
  },
  {
   "cell_type": "markdown",
   "metadata": {},
   "source": [
    "Once again, an *SVC* model is to be trained and tuned using grid search. However, you must select which features to use from the ones provided in *cv_set*.  "
   ]
  },
  {
   "cell_type": "markdown",
   "metadata": {},
   "source": [
    "____"
   ]
  },
  {
   "cell_type": "markdown",
   "metadata": {},
   "source": [
    "### 3.1 Grid Search with Cross Validation (4 Marks)"
   ]
  },
  {
   "cell_type": "markdown",
   "metadata": {},
   "source": [
    "___"
   ]
  },
  {
   "cell_type": "markdown",
   "metadata": {},
   "source": [
    "#### 3.1.1 Extract *Group Selected* features and target from *cv_set*"
   ]
  },
  {
   "cell_type": "markdown",
   "metadata": {},
   "source": [
    "**Question**\n",
    "1. Please list the features that you have selected and explain *why you have chosen* these features? (4 marks)\n"
   ]
  },
  {
   "cell_type": "code",
   "execution_count": 34,
   "metadata": {},
   "outputs": [
    {
     "data": {
      "image/png": "[encoded data removed]",
      "text/plain": [
       "<Figure size 864x720 with 2 Axes>"
      ]
     },
     "metadata": {
      "needs_background": "light"
     },
     "output_type": "display_data"
    }
   ],
   "source": [
    "from sklearn.preprocessing import LabelEncoder\n",
    "\n",
    "cv_set_copy = cv_set.copy()\n",
    "\n",
    "if cv_set_copy[\"motion_state\"].dtype == 'object':\n",
    "    le = LabelEncoder()\n",
    "    cv_set_copy[\"motion_state\"] = le.fit_transform(cv_set_copy[\"motion_state\"])\n",
    "\n",
    "correlation_matrix = cv_set_copy.corr()\n",
    "\n",
    "plt.figure(figsize=(12, 10))\n",
    "sns.heatmap(correlation_matrix, annot=False, cmap='coolwarm')\n",
    "plt.title(\"Full Correlation Matrix\")\n",
    "plt.show()"
   ]
  },
  {
   "cell_type": "code",
   "execution_count": 35,
   "metadata": {},
   "outputs": [
    {
     "name": "stdout",
     "output_type": "stream",
     "text": [
      "Top 10 Features Most Correlated with 'motion_state':\n",
      "['g_max', 'g_sum', 'gy_max', 'g_min', 'a_min', 'gy_min', 'a_max', 'az_min', 'az_max', 'ax_min']\n"
     ]
    }
   ],
   "source": [
    "target_correlation = correlation_matrix[\"motion_state\"].drop(\"motion_state\").sort_values(key=abs, ascending=False)\n",
    "top_10_features = target_correlation.head(10).index\n",
    "print(f\"Top 10 Features Most Correlated with 'motion_state':\\n{top_10_features.tolist()}\")"
   ]
  },
  {
   "cell_type": "code",
   "execution_count": 36,
   "metadata": {},
   "outputs": [
    {
     "name": "stdout",
     "output_type": "stream",
     "text": [
      "Redundant Features Removed: {'az_min', 'az_max', 'g_sum', 'a_max'}\n",
      "Non-Redundant Features to Use for ML:\n",
      "['g_max', 'gy_max', 'g_min', 'a_min', 'gy_min', 'ax_min']\n"
     ]
    }
   ],
   "source": [
    "top_10_correlation_matrix = correlation_matrix.loc[top_10_features, top_10_features]\n",
    "correlation_threshold = 0.9\n",
    "to_remove = set()\n",
    "for feature in top_10_features:\n",
    "    if feature not in to_remove:\n",
    "        highly_correlated = top_10_correlation_matrix[feature][abs(top_10_correlation_matrix[feature]) > correlation_threshold].index\n",
    "        for redundant_feature in highly_correlated:\n",
    "            if redundant_feature != feature:\n",
    "                to_remove.add(redundant_feature)\n",
    "\n",
    "non_redundant_features = [feature for feature in top_10_features if feature not in to_remove]\n",
    "\n",
    "print(f\"Redundant Features Removed: {to_remove}\")\n",
    "print(f\"Non-Redundant Features to Use for ML:\\n{non_redundant_features}\")"
   ]
  },
  {
   "cell_type": "markdown",
   "metadata": {},
   "source": [
    "**Answer**\n",
    "1.  <br> The selected features are: 'g_max', 'gy_max', 'g_min', 'a_min', 'gy_min', 'ax_min'. To select them we did this:\n",
    "- We plotted the full correlation matrix, \n",
    "- selected the top 10 features most correlated with the target feature, \n",
    "- removed redundant features, and \n",
    "- selected the remaining features to use for ML"
   ]
  },
  {
   "cell_type": "code",
   "execution_count": 37,
   "metadata": {},
   "outputs": [
    {
     "data": {
      "text/html": [
       "<div>\n",
       "<style scoped>\n",
       "    .dataframe tbody tr th:only-of-type {\n",
       "        vertical-align: middle;\n",
       "    }\n",
       "\n",
       "    .dataframe tbody tr th {\n",
       "        vertical-align: top;\n",
       "    }\n",
       "\n",
       "    .dataframe thead th {\n",
       "        text-align: right;\n",
       "    }\n",
       "</style>\n",
       "<table border=\"1\" class=\"dataframe\">\n",
       "  <thead>\n",
       "    <tr style=\"text-align: right;\">\n",
       "      <th></th>\n",
       "      <th>g_max</th>\n",
       "      <th>gy_max</th>\n",
       "      <th>g_min</th>\n",
       "      <th>a_min</th>\n",
       "      <th>gy_min</th>\n",
       "      <th>ax_min</th>\n",
       "    </tr>\n",
       "  </thead>\n",
       "  <tbody>\n",
       "    <tr>\n",
       "      <th>0</th>\n",
       "      <td>0.000187</td>\n",
       "      <td>0.000075</td>\n",
       "      <td>0.000003</td>\n",
       "      <td>0.023871</td>\n",
       "      <td>-0.00007</td>\n",
       "      <td>-0.001539</td>\n",
       "    </tr>\n",
       "    <tr>\n",
       "      <th>1</th>\n",
       "      <td>0.000144</td>\n",
       "      <td>0.000098</td>\n",
       "      <td>0.000006</td>\n",
       "      <td>0.024153</td>\n",
       "      <td>-0.00008</td>\n",
       "      <td>-0.001752</td>\n",
       "    </tr>\n",
       "  </tbody>\n",
       "</table>\n",
       "</div>"
      ],
      "text/plain": [
       "      g_max    gy_max     g_min     a_min   gy_min    ax_min\n",
       "0  0.000187  0.000075  0.000003  0.023871 -0.00007 -0.001539\n",
       "1  0.000144  0.000098  0.000006  0.024153 -0.00008 -0.001752"
      ]
     },
     "execution_count": 37,
     "metadata": {},
     "output_type": "execute_result"
    }
   ],
   "source": [
    "# TODO - Load group selected features from cv_set to X\n",
    "X = cv_set[['g_max', 'gy_max', 'g_min', 'a_min', 'gy_min', 'ax_min']]\n",
    "\n",
    "# Display the first 2 rows of X\n",
    "X.head(2)"
   ]
  },
  {
   "cell_type": "code",
   "execution_count": 38,
   "metadata": {},
   "outputs": [],
   "source": [
    "# TODO - Load motion_state column (target vector) into y\n",
    "y = cv_set['motion_state']"
   ]
  },
  {
   "cell_type": "markdown",
   "metadata": {},
   "source": [
    "___"
   ]
  },
  {
   "cell_type": "markdown",
   "metadata": {},
   "source": [
    "#### 3.1.2 - Configure and Perform Grid Search with Cross-Validation"
   ]
  },
  {
   "cell_type": "markdown",
   "metadata": {},
   "source": [
    "Follow the steps from **1.2.2** and perform model training and tuning using the group selected feature set."
   ]
  },
  {
   "cell_type": "code",
   "execution_count": 39,
   "metadata": {},
   "outputs": [
    {
     "data": {
      "text/plain": [
       "GridSearchCV(cv=5,\n",
       "             estimator=Pipeline(steps=[('scaler', StandardScaler()),\n",
       "                                       ('classifier', SVC())]),\n",
       "             param_grid={'classifier__C': [0.01, 0.1, 1, 10, 100],\n",
       "                         'classifier__gamma': [0.001, 0.01, 0.1, 1],\n",
       "                         'classifier__kernel': ['rbf'],\n",
       "                         'scaler': [StandardScaler(), RobustScaler(), None]},\n",
       "             return_train_score=True, scoring='accuracy')"
      ]
     },
     "execution_count": 39,
     "metadata": {},
     "output_type": "execute_result"
    }
   ],
   "source": [
    "# TODO - Perform model training and tuning using `GridSearchCV`\n",
    "X_train, X_test, y_train, y_test = train_test_split(\n",
    "    X, y, test_size=0.30, random_state=42, stratify=y\n",
    ")\n",
    "\n",
    "pipe = Pipeline([\n",
    "    ('scaler', StandardScaler()),  # Default scaler\n",
    "    ('classifier', SVC())  # Default SVC classifier\n",
    "])\n",
    "\n",
    "param_grid = {\n",
    "    'scaler': [StandardScaler(), RobustScaler(), None],  \n",
    "    'classifier__C': [0.01, 0.1, 1, 10, 100],  \n",
    "    'classifier__gamma': [0.001, 0.01, 0.1, 1],  \n",
    "    'classifier__kernel': ['rbf']  \n",
    "}\n",
    "\n",
    "grid = GridSearchCV(\n",
    "    pipe,  \n",
    "    param_grid,  \n",
    "    cv=5, \n",
    "    scoring='accuracy',  \n",
    "    return_train_score=True  \n",
    ")\n",
    "\n",
    "grid.fit(X_train, y_train)"
   ]
  },
  {
   "cell_type": "markdown",
   "metadata": {},
   "source": [
    "___"
   ]
  },
  {
   "cell_type": "markdown",
   "metadata": {},
   "source": [
    "#### 3.1.3 - Visualize Grid Search Results"
   ]
  },
  {
   "cell_type": "markdown",
   "metadata": {},
   "source": [
    "Print the results from the grid search. The following outputs must be printed.\n",
    "* Best parameter set\n",
    "* Best cross-validation train score\n",
    "* Best cross-validation test score\n",
    "* Test set accuracy"
   ]
  },
  {
   "cell_type": "code",
   "execution_count": 40,
   "metadata": {},
   "outputs": [
    {
     "name": "stdout",
     "output_type": "stream",
     "text": [
      "Best params:\n",
      "{'classifier__C': 100, 'classifier__gamma': 0.1, 'classifier__kernel': 'rbf', 'scaler': RobustScaler()}\n",
      "Best cross-validation train score: 0.91\n",
      "Best cross-validation validation score: 0.94\n",
      "Test-set score: 0.92\n"
     ]
    }
   ],
   "source": [
    "# TODO: Print the results from the grid search\n",
    "\n",
    "print(\"Best params:\\n{}\".format(grid.best_params_))\n",
    "print(\"Best cross-validation train score: {:.2f}\".format(grid.best_score_))\n",
    "print(\"Best cross-validation validation score: {:.2f}\".format(grid.best_estimator_.score(X_train, y_train)))\n",
    "\n",
    "test_score = grid.score(X_test, y_test)\n",
    "print(\"Test-set score: {:.2f}\".format(test_score))"
   ]
  },
  {
   "cell_type": "markdown",
   "metadata": {},
   "source": [
    "Display the confusion matrix and print the classification report for the trained model using the *test* split. "
   ]
  },
  {
   "cell_type": "code",
   "execution_count": 41,
   "metadata": {},
   "outputs": [
    {
     "data": {
      "image/png": "[encoded data removed]",
      "text/plain": [
       "<Figure size 576x432 with 2 Axes>"
      ]
     },
     "metadata": {
      "needs_background": "light"
     },
     "output_type": "display_data"
    },
    {
     "name": "stdout",
     "output_type": "stream",
     "text": [
      "Classification Report:\n",
      "\n",
      "              precision    recall  f1-score   support\n",
      "\n",
      "        rest       0.88      0.96      0.92       155\n",
      "    straight       0.92      0.89      0.91       207\n",
      "        turn       0.97      0.91      0.94        99\n",
      "\n",
      "    accuracy                           0.92       461\n",
      "   macro avg       0.92      0.92      0.92       461\n",
      "weighted avg       0.92      0.92      0.92       461\n",
      "\n"
     ]
    }
   ],
   "source": [
    "# TODO - Display confusion matrix and print classification report\n",
    "y_pred = grid.predict(X_test)\n",
    "\n",
    "conf_matrix = confusion_matrix(y_test, y_pred)\n",
    "\n",
    "class_labels = sorted(y_test.unique())  \n",
    "\n",
    "plt.figure(figsize=(8, 6))\n",
    "sns.heatmap(conf_matrix, annot=True, fmt='d', cmap='Blues', xticklabels=class_labels, yticklabels=class_labels)\n",
    "plt.xlabel('Predicted Labels')\n",
    "plt.ylabel('True Labels')\n",
    "plt.title('Confusion Matrix')\n",
    "plt.show()\n",
    "\n",
    "print(\"Classification Report:\\n\")\n",
    "print(classification_report(y_test, y_pred, target_names=[str(label) for label in class_labels]))"
   ]
  },
  {
   "cell_type": "markdown",
   "metadata": {},
   "source": [
    "___"
   ]
  },
  {
   "cell_type": "markdown",
   "metadata": {},
   "source": [
    "### 3.2 - Model Evaluation on Test Datasets 1 and 2 (6 Marks)"
   ]
  },
  {
   "cell_type": "markdown",
   "metadata": {},
   "source": [
    "___"
   ]
  },
  {
   "cell_type": "markdown",
   "metadata": {},
   "source": [
    "#### 3.2.1 - Extract group selected features and targets from test datasets"
   ]
  },
  {
   "cell_type": "markdown",
   "metadata": {},
   "source": [
    "The model trained in 3.1 is to be tested on the independent datasets, that is test_set1 and test_set2. \n",
    "Seperate the testsets into group selected features and target vectors *(X1, y1)* and *(X2,y2)*"
   ]
  },
  {
   "cell_type": "code",
   "execution_count": 42,
   "metadata": {},
   "outputs": [
    {
     "data": {
      "text/html": [
       "<div>\n",
       "<style scoped>\n",
       "    .dataframe tbody tr th:only-of-type {\n",
       "        vertical-align: middle;\n",
       "    }\n",
       "\n",
       "    .dataframe tbody tr th {\n",
       "        vertical-align: top;\n",
       "    }\n",
       "\n",
       "    .dataframe thead th {\n",
       "        text-align: right;\n",
       "    }\n",
       "</style>\n",
       "<table border=\"1\" class=\"dataframe\">\n",
       "  <thead>\n",
       "    <tr style=\"text-align: right;\">\n",
       "      <th></th>\n",
       "      <th>g_max</th>\n",
       "      <th>gy_max</th>\n",
       "      <th>g_min</th>\n",
       "      <th>a_min</th>\n",
       "      <th>gy_min</th>\n",
       "      <th>ax_min</th>\n",
       "    </tr>\n",
       "  </thead>\n",
       "  <tbody>\n",
       "    <tr>\n",
       "      <th>0</th>\n",
       "      <td>0.000170</td>\n",
       "      <td>0.000078</td>\n",
       "      <td>0.000003</td>\n",
       "      <td>0.024056</td>\n",
       "      <td>-0.000065</td>\n",
       "      <td>-0.001191</td>\n",
       "    </tr>\n",
       "    <tr>\n",
       "      <th>1</th>\n",
       "      <td>0.000201</td>\n",
       "      <td>0.000095</td>\n",
       "      <td>0.000007</td>\n",
       "      <td>0.024084</td>\n",
       "      <td>-0.000076</td>\n",
       "      <td>-0.001104</td>\n",
       "    </tr>\n",
       "  </tbody>\n",
       "</table>\n",
       "</div>"
      ],
      "text/plain": [
       "      g_max    gy_max     g_min     a_min    gy_min    ax_min\n",
       "0  0.000170  0.000078  0.000003  0.024056 -0.000065 -0.001191\n",
       "1  0.000201  0.000095  0.000007  0.024084 -0.000076 -0.001104"
      ]
     },
     "execution_count": 42,
     "metadata": {},
     "output_type": "execute_result"
    }
   ],
   "source": [
    "# TODO - Load the target vector from test_set1 into y1, and the group selected features from test_set1 into X1\n",
    "y1 = test_set1['motion_state']  \n",
    "X1 = test_set1[['g_max', 'gy_max', 'g_min', 'a_min', 'gy_min', 'ax_min']]  \n",
    "\n",
    "# Display the first 2 rows of X1 to verify\n",
    "X1.head(2)"
   ]
  },
  {
   "cell_type": "code",
   "execution_count": 43,
   "metadata": {},
   "outputs": [
    {
     "data": {
      "text/html": [
       "<div>\n",
       "<style scoped>\n",
       "    .dataframe tbody tr th:only-of-type {\n",
       "        vertical-align: middle;\n",
       "    }\n",
       "\n",
       "    .dataframe tbody tr th {\n",
       "        vertical-align: top;\n",
       "    }\n",
       "\n",
       "    .dataframe thead th {\n",
       "        text-align: right;\n",
       "    }\n",
       "</style>\n",
       "<table border=\"1\" class=\"dataframe\">\n",
       "  <thead>\n",
       "    <tr style=\"text-align: right;\">\n",
       "      <th></th>\n",
       "      <th>g_max</th>\n",
       "      <th>gy_max</th>\n",
       "      <th>g_min</th>\n",
       "      <th>a_min</th>\n",
       "      <th>gy_min</th>\n",
       "      <th>ax_min</th>\n",
       "    </tr>\n",
       "  </thead>\n",
       "  <tbody>\n",
       "    <tr>\n",
       "      <th>0</th>\n",
       "      <td>0.000142</td>\n",
       "      <td>0.000115</td>\n",
       "      <td>0.000007</td>\n",
       "      <td>0.048406</td>\n",
       "      <td>-0.000095</td>\n",
       "      <td>-0.002970</td>\n",
       "    </tr>\n",
       "    <tr>\n",
       "      <th>1</th>\n",
       "      <td>0.000151</td>\n",
       "      <td>0.000140</td>\n",
       "      <td>0.000013</td>\n",
       "      <td>0.047696</td>\n",
       "      <td>-0.000132</td>\n",
       "      <td>-0.003824</td>\n",
       "    </tr>\n",
       "  </tbody>\n",
       "</table>\n",
       "</div>"
      ],
      "text/plain": [
       "      g_max    gy_max     g_min     a_min    gy_min    ax_min\n",
       "0  0.000142  0.000115  0.000007  0.048406 -0.000095 -0.002970\n",
       "1  0.000151  0.000140  0.000013  0.047696 -0.000132 -0.003824"
      ]
     },
     "execution_count": 43,
     "metadata": {},
     "output_type": "execute_result"
    }
   ],
   "source": [
    "# TODO - Load the target vector from test_set2 into y2, and the group selected features from test_set2 into X2\n",
    "y2 = test_set2['motion_state']  \n",
    "X2 = test_set2[['g_max', 'gy_max', 'g_min', 'a_min', 'gy_min', 'ax_min']]  \n",
    "\n",
    "# Display the first 2 rows of X2 to verify\n",
    "X2.head(2)"
   ]
  },
  {
   "cell_type": "markdown",
   "metadata": {},
   "source": [
    "___"
   ]
  },
  {
   "cell_type": "markdown",
   "metadata": {},
   "source": [
    "#### 3.2.2 - Visualize Results"
   ]
  },
  {
   "cell_type": "markdown",
   "metadata": {},
   "source": [
    "For each test dataset, print the test set accuracy score. "
   ]
  },
  {
   "cell_type": "code",
   "execution_count": 44,
   "metadata": {},
   "outputs": [
    {
     "name": "stdout",
     "output_type": "stream",
     "text": [
      "test_set1 score: 0.89\n",
      "test_set2 score: 0.25\n"
     ]
    }
   ],
   "source": [
    "# TODO - Print test score accuracies for test_set1 and test_set2\n",
    "\n",
    "test_score1 = grid.score(X1, y1) \n",
    "print(\"test_set1 score: {:.2f}\".format(test_score1))\n",
    "\n",
    "test_score2 = grid.score(X2, y2) \n",
    "print(\"test_set2 score: {:.2f}\".format(test_score2))"
   ]
  },
  {
   "cell_type": "markdown",
   "metadata": {},
   "source": [
    "Display the confusion matrix and print the classification for test_set 1 *(X1, y1)*"
   ]
  },
  {
   "cell_type": "code",
   "execution_count": 45,
   "metadata": {},
   "outputs": [
    {
     "data": {
      "image/png": "[encoded data removed]",
      "text/plain": [
       "<Figure size 576x432 with 2 Axes>"
      ]
     },
     "metadata": {
      "needs_background": "light"
     },
     "output_type": "display_data"
    },
    {
     "name": "stdout",
     "output_type": "stream",
     "text": [
      "Classification Report for test_set1:\n",
      "\n",
      "              precision    recall  f1-score   support\n",
      "\n",
      "        rest       0.90      0.99      0.94       231\n",
      "    straight       0.85      0.82      0.83       411\n",
      "        turn       0.63      0.60      0.61       141\n",
      "\n",
      "    accuracy                           0.83       783\n",
      "   macro avg       0.79      0.80      0.80       783\n",
      "weighted avg       0.83      0.83      0.83       783\n",
      "\n"
     ]
    }
   ],
   "source": [
    "# TODO - Display confusion matrix and print classification report for (X1, y1)\n",
    "\n",
    "y1 = y1.astype(str)  \n",
    "y1_pred = y1_pred.astype(str)  \n",
    "\n",
    "conf_matrix1 = confusion_matrix(y1, y1_pred)\n",
    "\n",
    "class_labels = sorted(y1.unique()) \n",
    "\n",
    "plt.figure(figsize=(8, 6))\n",
    "sns.heatmap(conf_matrix1, annot=True, fmt='d', cmap='Blues', xticklabels=class_labels, yticklabels=class_labels)\n",
    "plt.xlabel('Predicted Labels')\n",
    "plt.ylabel('True Labels')\n",
    "plt.title('Confusion Matrix for test_set1')\n",
    "plt.show()\n",
    "\n",
    "print(\"Classification Report for test_set1:\\n\")\n",
    "print(classification_report(y1, y1_pred, target_names=[str(label) for label in class_labels]))"
   ]
  },
  {
   "cell_type": "markdown",
   "metadata": {},
   "source": [
    "Display the confusion matrix and print the classification for test_set 2 *(X2, y2)*"
   ]
  },
  {
   "cell_type": "code",
   "execution_count": 46,
   "metadata": {},
   "outputs": [
    {
     "data": {
      "image/png": "[encoded data removed]",
      "text/plain": [
       "<Figure size 576x432 with 2 Axes>"
      ]
     },
     "metadata": {
      "needs_background": "light"
     },
     "output_type": "display_data"
    },
    {
     "name": "stdout",
     "output_type": "stream",
     "text": [
      "Classification Report for test_set2:\n",
      "\n",
      "              precision    recall  f1-score   support\n",
      "\n",
      "        rest       0.00      0.00      0.00        16\n",
      "    straight       0.00      0.00      0.00       206\n",
      "        turn       0.25      1.00      0.40        75\n",
      "\n",
      "    accuracy                           0.25       297\n",
      "   macro avg       0.08      0.33      0.13       297\n",
      "weighted avg       0.06      0.25      0.10       297\n",
      "\n"
     ]
    },
    {
     "name": "stderr",
     "output_type": "stream",
     "text": [
      "C:\\ProgramData\\Anaconda3\\lib\\site-packages\\sklearn\\metrics\\_classification.py:1248: UndefinedMetricWarning: Precision and F-score are ill-defined and being set to 0.0 in labels with no predicted samples. Use `zero_division` parameter to control this behavior.\n",
      "  _warn_prf(average, modifier, msg_start, len(result))\n",
      "C:\\ProgramData\\Anaconda3\\lib\\site-packages\\sklearn\\metrics\\_classification.py:1248: UndefinedMetricWarning: Precision and F-score are ill-defined and being set to 0.0 in labels with no predicted samples. Use `zero_division` parameter to control this behavior.\n",
      "  _warn_prf(average, modifier, msg_start, len(result))\n",
      "C:\\ProgramData\\Anaconda3\\lib\\site-packages\\sklearn\\metrics\\_classification.py:1248: UndefinedMetricWarning: Precision and F-score are ill-defined and being set to 0.0 in labels with no predicted samples. Use `zero_division` parameter to control this behavior.\n",
      "  _warn_prf(average, modifier, msg_start, len(result))\n"
     ]
    }
   ],
   "source": [
    "# TODO - Display confusion matrix and print classification report for (X2, y2)\n",
    "\n",
    "y2_pred = grid.best_estimator_.predict(X2)\n",
    "\n",
    "conf_matrix2 = confusion_matrix(y2, y2_pred)\n",
    "\n",
    "plt.figure(figsize=(8, 6))\n",
    "sns.heatmap(conf_matrix2, annot=True, fmt='d', cmap='Blues', xticklabels=grid.best_estimator_.classes_, yticklabels=grid.best_estimator_.classes_)\n",
    "plt.xlabel('Predicted Labels')\n",
    "plt.ylabel('True Labels')\n",
    "plt.title('Confusion Matrix for test_set2')\n",
    "plt.show()\n",
    "\n",
    "class_labels = sorted(y2.unique())  \n",
    "\n",
    "print(\"Classification Report for test_set2:\\n\")\n",
    "print(classification_report(y2, y2_pred, target_names=[str(label) for label in class_labels]))"
   ]
  },
  {
   "cell_type": "markdown",
   "metadata": {},
   "source": [
    "___"
   ]
  },
  {
   "cell_type": "markdown",
   "metadata": {},
   "source": [
    "#### 3.2.3 Questions"
   ]
  },
  {
   "cell_type": "markdown",
   "metadata": {},
   "source": [
    "1. Based on the observations across all three datasets, compare the performance of the model trained in this section to: (3 marks)\n",
    "    1. Model trained in Section 1 using *all features*.\n",
    "    1. Model trained in Section 2 using *selected features*. \n",
    "\n",
    "2. Please proivde potential explanations for the differences observed in models' performances across the three sections. (3 marks)"
   ]
  },
  {
   "cell_type": "markdown",
   "metadata": {},
   "source": [
    "#### 3.2.3 Answers\n",
    "1. In Section 1, the model has a test-set score of 0.96, test_set1 at 0.92, and test_set2 at 0.25 - overfitting. In Section 2, the model performs consistently with test-set score of 0.83, test_set1 at 0.83, and test_set2 at 0.84 - a better fit. In Section 3, the model has a test-set score of 0.92, test_set1 at 0.89, and test_set2 at 0.25 - overfitting as well.\n",
    "\n",
    "    Section 2 provides the most consistent performance across all datasets. <br> <br> <br> \n",
    "\n",
    "2. Model 1 includes all features, which means it also has irrelevant and noisy features, which leads to overfitting and poor performance on test_set2. By selecting only the right features (as in Model 2), the model can focus on the most important ones, improving its performance. These features might have been chosen by a professional with industry knowledge, making them more relevant for the general task.\n",
    "\n",
    "    In Section 3, the model used the top 6 correlated features. While these features were useful for the training set, test_set2 might have had different patterns that the selected features couldn't capture, leading to poor performance on test_set2."
   ]
  },
  {
   "cell_type": "markdown",
   "metadata": {},
   "source": [
    "____"
   ]
  },
  {
   "cell_type": "markdown",
   "metadata": {},
   "source": [
    "## Section 4 - Classification Using Principal Components of Features From Inertial Sensor Data (10 Marks)"
   ]
  },
  {
   "cell_type": "markdown",
   "metadata": {},
   "source": [
    "____"
   ]
  },
  {
   "cell_type": "markdown",
   "metadata": {},
   "source": [
    "### 4.1 Principal Component Analysis (PCA) Search with Cross Validation (4 Marks)"
   ]
  },
  {
   "cell_type": "markdown",
   "metadata": {},
   "source": [
    "___"
   ]
  },
  {
   "cell_type": "markdown",
   "metadata": {},
   "source": [
    "#### 4.1.1 Extract *ALL* features and target from *cv_set*"
   ]
  },
  {
   "cell_type": "code",
   "execution_count": 47,
   "metadata": {},
   "outputs": [
    {
     "data": {
      "text/html": [
       "<div>\n",
       "<style scoped>\n",
       "    .dataframe tbody tr th:only-of-type {\n",
       "        vertical-align: middle;\n",
       "    }\n",
       "\n",
       "    .dataframe tbody tr th {\n",
       "        vertical-align: top;\n",
       "    }\n",
       "\n",
       "    .dataframe thead th {\n",
       "        text-align: right;\n",
       "    }\n",
       "</style>\n",
       "<table border=\"1\" class=\"dataframe\">\n",
       "  <thead>\n",
       "    <tr style=\"text-align: right;\">\n",
       "      <th></th>\n",
       "      <th>ax_sum</th>\n",
       "      <th>ay_sum</th>\n",
       "      <th>az_sum</th>\n",
       "      <th>gx_sum</th>\n",
       "      <th>gy_sum</th>\n",
       "      <th>gz_sum</th>\n",
       "      <th>a_sum</th>\n",
       "      <th>g_sum</th>\n",
       "      <th>ax_var</th>\n",
       "      <th>ay_var</th>\n",
       "      <th>...</th>\n",
       "      <th>a_min</th>\n",
       "      <th>g_min</th>\n",
       "      <th>ax_max</th>\n",
       "      <th>ay_max</th>\n",
       "      <th>az_max</th>\n",
       "      <th>gx_max</th>\n",
       "      <th>gy_max</th>\n",
       "      <th>gz_max</th>\n",
       "      <th>a_max</th>\n",
       "      <th>g_max</th>\n",
       "    </tr>\n",
       "  </thead>\n",
       "  <tbody>\n",
       "    <tr>\n",
       "      <th>0</th>\n",
       "      <td>-0.003929</td>\n",
       "      <td>-0.093081</td>\n",
       "      <td>9.789349</td>\n",
       "      <td>-0.002649</td>\n",
       "      <td>0.001406</td>\n",
       "      <td>-0.001391</td>\n",
       "      <td>9.797418</td>\n",
       "      <td>0.022554</td>\n",
       "      <td>8.046094e-07</td>\n",
       "      <td>1.319665e-07</td>\n",
       "      <td>...</td>\n",
       "      <td>0.023871</td>\n",
       "      <td>0.000003</td>\n",
       "      <td>0.001496</td>\n",
       "      <td>0.000544</td>\n",
       "      <td>0.024992</td>\n",
       "      <td>0.000110</td>\n",
       "      <td>0.000075</td>\n",
       "      <td>0.000078</td>\n",
       "      <td>0.024997</td>\n",
       "      <td>0.000187</td>\n",
       "    </tr>\n",
       "    <tr>\n",
       "      <th>1</th>\n",
       "      <td>-0.000966</td>\n",
       "      <td>-0.092417</td>\n",
       "      <td>9.789095</td>\n",
       "      <td>-0.001806</td>\n",
       "      <td>0.000103</td>\n",
       "      <td>-0.001943</td>\n",
       "      <td>9.798815</td>\n",
       "      <td>0.021731</td>\n",
       "      <td>1.032619e-06</td>\n",
       "      <td>1.073067e-07</td>\n",
       "      <td>...</td>\n",
       "      <td>0.024153</td>\n",
       "      <td>0.000006</td>\n",
       "      <td>0.001865</td>\n",
       "      <td>0.000615</td>\n",
       "      <td>0.024828</td>\n",
       "      <td>0.000124</td>\n",
       "      <td>0.000098</td>\n",
       "      <td>0.000090</td>\n",
       "      <td>0.024829</td>\n",
       "      <td>0.000144</td>\n",
       "    </tr>\n",
       "  </tbody>\n",
       "</table>\n",
       "<p>2 rows × 32 columns</p>\n",
       "</div>"
      ],
      "text/plain": [
       "     ax_sum    ay_sum    az_sum    gx_sum    gy_sum    gz_sum     a_sum  \\\n",
       "0 -0.003929 -0.093081  9.789349 -0.002649  0.001406 -0.001391  9.797418   \n",
       "1 -0.000966 -0.092417  9.789095 -0.001806  0.000103 -0.001943  9.798815   \n",
       "\n",
       "      g_sum        ax_var        ay_var  ...     a_min     g_min    ax_max  \\\n",
       "0  0.022554  8.046094e-07  1.319665e-07  ...  0.023871  0.000003  0.001496   \n",
       "1  0.021731  1.032619e-06  1.073067e-07  ...  0.024153  0.000006  0.001865   \n",
       "\n",
       "     ay_max    az_max    gx_max    gy_max    gz_max     a_max     g_max  \n",
       "0  0.000544  0.024992  0.000110  0.000075  0.000078  0.024997  0.000187  \n",
       "1  0.000615  0.024828  0.000124  0.000098  0.000090  0.024829  0.000144  \n",
       "\n",
       "[2 rows x 32 columns]"
      ]
     },
     "execution_count": 47,
     "metadata": {},
     "output_type": "execute_result"
    }
   ],
   "source": [
    "# TODO - Load all features from cv_set to X\n",
    "X = cv_set.drop(columns=['motion_state']) \n",
    "\n",
    "# Display the first 2 rows of X to verify\n",
    "X.head(2)"
   ]
  },
  {
   "cell_type": "code",
   "execution_count": 48,
   "metadata": {},
   "outputs": [],
   "source": [
    "# TODO - Load motion_state column (target vector) into y\n",
    "y = cv_set['motion_state']"
   ]
  },
  {
   "cell_type": "markdown",
   "metadata": {},
   "source": [
    "___"
   ]
  },
  {
   "cell_type": "markdown",
   "metadata": {},
   "source": [
    "#### 4.1.2 - Configure and Perform Grid Search with Cross-Validation"
   ]
  },
  {
   "cell_type": "markdown",
   "metadata": {},
   "source": [
    "Similar to the steps from **1.2.2** and perform model training and tuning for an `SVC` model. Perform the `train_test_split`, initiate a `Pipeline`, then define the *Parameters* for `GridSearchCV`. Finally, perfrom the grid search."
   ]
  },
  {
   "cell_type": "code",
   "execution_count": 49,
   "metadata": {},
   "outputs": [],
   "source": [
    "# TODO - Perform model training and tuning using `GridSearchCV`\n",
    "X_train, X_test, y_train, y_test = train_test_split(\n",
    "    X, y, test_size=0.30, random_state=42, stratify=y\n",
    ")"
   ]
  },
  {
   "cell_type": "markdown",
   "metadata": {},
   "source": [
    "In the `Pipeline` add an entry *'pca'* to apply `PCA`."
   ]
  },
  {
   "cell_type": "code",
   "execution_count": 50,
   "metadata": {},
   "outputs": [],
   "source": [
    "# Perform any missing imports\n",
    "from sklearn.decomposition import PCA\n",
    "\n",
    "# TODO - Initiate the pipeline \n",
    "# (1 marks)\n",
    "pipe = Pipeline([\n",
    "    ('scaler', StandardScaler()), \n",
    "    ('pca', PCA()),  \n",
    "    ('classifier', SVC()) \n",
    "])"
   ]
  },
  {
   "cell_type": "markdown",
   "metadata": {},
   "source": [
    "Similar to previous sections, define the grid search configuration (*param_grid*). Add *n_components* hyper parameter tuning for PCA, and search over the values `n_components=[4,7,11,14,16]`.  "
   ]
  },
  {
   "cell_type": "code",
   "execution_count": 51,
   "metadata": {},
   "outputs": [],
   "source": [
    "# TODO - Define the parameter grid for your model\n",
    "# (3 marks)\n",
    "param_grid = {\n",
    "    'pca__n_components': [4,7,11,14,16],  \n",
    "    'classifier__C': [0.01, 0.1, 1, 10, 100],  \n",
    "    'classifier__gamma': [0.001, 0.01, 0.1, 1],  \n",
    "    'classifier__kernel': ['rbf', 'linear'] \n",
    "}"
   ]
  },
  {
   "cell_type": "code",
   "execution_count": 52,
   "metadata": {},
   "outputs": [
    {
     "data": {
      "text/plain": [
       "GridSearchCV(cv=5,\n",
       "             estimator=Pipeline(steps=[('scaler', StandardScaler()),\n",
       "                                       ('pca', PCA()), ('classifier', SVC())]),\n",
       "             param_grid={'classifier__C': [0.01, 0.1, 1, 10, 100],\n",
       "                         'classifier__gamma': [0.001, 0.01, 0.1, 1],\n",
       "                         'classifier__kernel': ['rbf', 'linear'],\n",
       "                         'pca__n_components': [4, 7, 11, 14, 16]},\n",
       "             return_train_score=True, scoring='accuracy')"
      ]
     },
     "execution_count": 52,
     "metadata": {},
     "output_type": "execute_result"
    }
   ],
   "source": [
    "# Perform the grid search to train model and tune hyper parameters\n",
    "grid = GridSearchCV(pipe, param_grid, cv=5, scoring='accuracy', return_train_score=True)\n",
    "grid.fit(X_train, y_train)"
   ]
  },
  {
   "cell_type": "markdown",
   "metadata": {},
   "source": [
    "___"
   ]
  },
  {
   "cell_type": "markdown",
   "metadata": {},
   "source": [
    "#### 4.1.3 - Visualize Grid Search Results"
   ]
  },
  {
   "cell_type": "markdown",
   "metadata": {},
   "source": [
    "Print the results from the grid search. The following outputs must be printed.\n",
    "* Best parameter set\n",
    "* Best cross-validation train score\n",
    "* Best cross-validation test score\n",
    "* Test set accuracy"
   ]
  },
  {
   "cell_type": "code",
   "execution_count": 53,
   "metadata": {},
   "outputs": [
    {
     "name": "stdout",
     "output_type": "stream",
     "text": [
      "Best params:\n",
      "{'classifier__C': 100, 'classifier__gamma': 0.001, 'classifier__kernel': 'linear', 'pca__n_components': 14}\n",
      "Best cross-validation train score: 0.94\n",
      "Best cross-validation validation score: 0.96\n",
      "Test-set score: 0.95\n"
     ]
    }
   ],
   "source": [
    "# TODO: Print the results from the grid search\n",
    "\n",
    "print(\"Best params:\\n{}\".format(grid.best_params_))\n",
    "print(\"Best cross-validation train score: {:.2f}\".format(grid.best_score_))\n",
    "print(\"Best cross-validation validation score: {:.2f}\".format(grid.best_estimator_.score(X_train, y_train)))\n",
    "test_score = grid.score(X_test, y_test)\n",
    "print(\"Test-set score: {:.2f}\".format(test_score))"
   ]
  },
  {
   "cell_type": "markdown",
   "metadata": {},
   "source": [
    "Display the confusion matrix and print the classification report for the trained model using the *test* split. "
   ]
  },
  {
   "cell_type": "code",
   "execution_count": 54,
   "metadata": {},
   "outputs": [
    {
     "data": {
      "image/png": "[encoded data removed]",
      "text/plain": [
       "<Figure size 576x432 with 2 Axes>"
      ]
     },
     "metadata": {
      "needs_background": "light"
     },
     "output_type": "display_data"
    },
    {
     "name": "stdout",
     "output_type": "stream",
     "text": [
      "Classification Report:\n",
      "\n",
      "              precision    recall  f1-score   support\n",
      "\n",
      "        rest       0.93      0.97      0.95       155\n",
      "    straight       0.96      0.93      0.95       207\n",
      "        turn       0.97      0.98      0.97        99\n",
      "\n",
      "    accuracy                           0.95       461\n",
      "   macro avg       0.95      0.96      0.96       461\n",
      "weighted avg       0.95      0.95      0.95       461\n",
      "\n"
     ]
    }
   ],
   "source": [
    "# TODO - Display confusion matrix and print classification report\n",
    "y_pred = grid.predict(X_test)\n",
    "\n",
    "conf_matrix = confusion_matrix(y_test, y_pred)\n",
    "class_labels = sorted(y_test.unique())  \n",
    "\n",
    "plt.figure(figsize=(8, 6))\n",
    "sns.heatmap(conf_matrix, annot=True, fmt='d', cmap='Blues', xticklabels=class_labels, yticklabels=class_labels)\n",
    "plt.xlabel('Predicted Labels')\n",
    "plt.ylabel('True Labels')\n",
    "plt.title('Confusion Matrix')\n",
    "plt.show()\n",
    "\n",
    "print(\"Classification Report:\\n\")\n",
    "print(classification_report(y_test, y_pred, target_names=[str(label) for label in class_labels]))"
   ]
  },
  {
   "cell_type": "markdown",
   "metadata": {},
   "source": [
    "___"
   ]
  },
  {
   "cell_type": "markdown",
   "metadata": {},
   "source": [
    "### 4.2 - Model Evaluation on Test Datasets 1 and 2 (6 Marks)"
   ]
  },
  {
   "cell_type": "markdown",
   "metadata": {},
   "source": [
    "___"
   ]
  },
  {
   "cell_type": "markdown",
   "metadata": {},
   "source": [
    "#### 4.2.1 - Extract group selected features and targets from test datasets"
   ]
  },
  {
   "cell_type": "code",
   "execution_count": 55,
   "metadata": {},
   "outputs": [
    {
     "data": {
      "text/html": [
       "<div>\n",
       "<style scoped>\n",
       "    .dataframe tbody tr th:only-of-type {\n",
       "        vertical-align: middle;\n",
       "    }\n",
       "\n",
       "    .dataframe tbody tr th {\n",
       "        vertical-align: top;\n",
       "    }\n",
       "\n",
       "    .dataframe thead th {\n",
       "        text-align: right;\n",
       "    }\n",
       "</style>\n",
       "<table border=\"1\" class=\"dataframe\">\n",
       "  <thead>\n",
       "    <tr style=\"text-align: right;\">\n",
       "      <th></th>\n",
       "      <th>ax_sum</th>\n",
       "      <th>ay_sum</th>\n",
       "      <th>az_sum</th>\n",
       "      <th>gx_sum</th>\n",
       "      <th>gy_sum</th>\n",
       "      <th>gz_sum</th>\n",
       "      <th>a_sum</th>\n",
       "      <th>g_sum</th>\n",
       "      <th>ax_var</th>\n",
       "      <th>ay_var</th>\n",
       "      <th>...</th>\n",
       "      <th>a_min</th>\n",
       "      <th>g_min</th>\n",
       "      <th>ax_max</th>\n",
       "      <th>ay_max</th>\n",
       "      <th>az_max</th>\n",
       "      <th>gx_max</th>\n",
       "      <th>gy_max</th>\n",
       "      <th>gz_max</th>\n",
       "      <th>a_max</th>\n",
       "      <th>g_max</th>\n",
       "    </tr>\n",
       "  </thead>\n",
       "  <tbody>\n",
       "    <tr>\n",
       "      <th>0</th>\n",
       "      <td>0.264465</td>\n",
       "      <td>0.089904</td>\n",
       "      <td>9.786930</td>\n",
       "      <td>-0.002305</td>\n",
       "      <td>0.000218</td>\n",
       "      <td>-0.001143</td>\n",
       "      <td>9.801661</td>\n",
       "      <td>0.025634</td>\n",
       "      <td>0.000001</td>\n",
       "      <td>7.749919e-08</td>\n",
       "      <td>...</td>\n",
       "      <td>0.024056</td>\n",
       "      <td>0.000003</td>\n",
       "      <td>0.002506</td>\n",
       "      <td>0.000845</td>\n",
       "      <td>0.024884</td>\n",
       "      <td>0.000155</td>\n",
       "      <td>0.000078</td>\n",
       "      <td>0.000069</td>\n",
       "      <td>0.024886</td>\n",
       "      <td>0.000170</td>\n",
       "    </tr>\n",
       "    <tr>\n",
       "      <th>1</th>\n",
       "      <td>0.264300</td>\n",
       "      <td>0.088882</td>\n",
       "      <td>9.788127</td>\n",
       "      <td>-0.001865</td>\n",
       "      <td>-0.000523</td>\n",
       "      <td>-0.001999</td>\n",
       "      <td>9.802481</td>\n",
       "      <td>0.025218</td>\n",
       "      <td>0.000001</td>\n",
       "      <td>9.243000e-08</td>\n",
       "      <td>...</td>\n",
       "      <td>0.024084</td>\n",
       "      <td>0.000007</td>\n",
       "      <td>0.002427</td>\n",
       "      <td>0.000949</td>\n",
       "      <td>0.024881</td>\n",
       "      <td>0.000201</td>\n",
       "      <td>0.000095</td>\n",
       "      <td>0.000076</td>\n",
       "      <td>0.024883</td>\n",
       "      <td>0.000201</td>\n",
       "    </tr>\n",
       "  </tbody>\n",
       "</table>\n",
       "<p>2 rows × 32 columns</p>\n",
       "</div>"
      ],
      "text/plain": [
       "     ax_sum    ay_sum    az_sum    gx_sum    gy_sum    gz_sum     a_sum  \\\n",
       "0  0.264465  0.089904  9.786930 -0.002305  0.000218 -0.001143  9.801661   \n",
       "1  0.264300  0.088882  9.788127 -0.001865 -0.000523 -0.001999  9.802481   \n",
       "\n",
       "      g_sum    ax_var        ay_var  ...     a_min     g_min    ax_max  \\\n",
       "0  0.025634  0.000001  7.749919e-08  ...  0.024056  0.000003  0.002506   \n",
       "1  0.025218  0.000001  9.243000e-08  ...  0.024084  0.000007  0.002427   \n",
       "\n",
       "     ay_max    az_max    gx_max    gy_max    gz_max     a_max     g_max  \n",
       "0  0.000845  0.024884  0.000155  0.000078  0.000069  0.024886  0.000170  \n",
       "1  0.000949  0.024881  0.000201  0.000095  0.000076  0.024883  0.000201  \n",
       "\n",
       "[2 rows x 32 columns]"
      ]
     },
     "execution_count": 55,
     "metadata": {},
     "output_type": "execute_result"
    }
   ],
   "source": [
    "# TODO - Load the target vector from test_set1 into y1, and all features from test_set1 into X1\n",
    "y1 = test_set1['motion_state'] \n",
    "X1 = test_set1.drop(columns=['motion_state']) \n",
    "\n",
    "# Display the first 2 rows of X1 to verify\n",
    "X1.head(2)"
   ]
  },
  {
   "cell_type": "code",
   "execution_count": 56,
   "metadata": {},
   "outputs": [
    {
     "data": {
      "text/html": [
       "<div>\n",
       "<style scoped>\n",
       "    .dataframe tbody tr th:only-of-type {\n",
       "        vertical-align: middle;\n",
       "    }\n",
       "\n",
       "    .dataframe tbody tr th {\n",
       "        vertical-align: top;\n",
       "    }\n",
       "\n",
       "    .dataframe thead th {\n",
       "        text-align: right;\n",
       "    }\n",
       "</style>\n",
       "<table border=\"1\" class=\"dataframe\">\n",
       "  <thead>\n",
       "    <tr style=\"text-align: right;\">\n",
       "      <th></th>\n",
       "      <th>ax_sum</th>\n",
       "      <th>ay_sum</th>\n",
       "      <th>az_sum</th>\n",
       "      <th>gx_sum</th>\n",
       "      <th>gy_sum</th>\n",
       "      <th>gz_sum</th>\n",
       "      <th>a_sum</th>\n",
       "      <th>g_sum</th>\n",
       "      <th>ax_var</th>\n",
       "      <th>ay_var</th>\n",
       "      <th>...</th>\n",
       "      <th>a_min</th>\n",
       "      <th>g_min</th>\n",
       "      <th>ax_max</th>\n",
       "      <th>ay_max</th>\n",
       "      <th>az_max</th>\n",
       "      <th>gx_max</th>\n",
       "      <th>gy_max</th>\n",
       "      <th>gz_max</th>\n",
       "      <th>a_max</th>\n",
       "      <th>g_max</th>\n",
       "    </tr>\n",
       "  </thead>\n",
       "  <tbody>\n",
       "    <tr>\n",
       "      <th>0</th>\n",
       "      <td>-0.046400</td>\n",
       "      <td>0.305907</td>\n",
       "      <td>9.791451</td>\n",
       "      <td>-0.002184</td>\n",
       "      <td>0.001311</td>\n",
       "      <td>-0.001901</td>\n",
       "      <td>9.800683</td>\n",
       "      <td>0.012437</td>\n",
       "      <td>0.000002</td>\n",
       "      <td>3.020959e-07</td>\n",
       "      <td>...</td>\n",
       "      <td>0.048406</td>\n",
       "      <td>0.000007</td>\n",
       "      <td>0.002575</td>\n",
       "      <td>0.002993</td>\n",
       "      <td>0.049701</td>\n",
       "      <td>0.000094</td>\n",
       "      <td>0.000115</td>\n",
       "      <td>0.000080</td>\n",
       "      <td>0.049764</td>\n",
       "      <td>0.000142</td>\n",
       "    </tr>\n",
       "    <tr>\n",
       "      <th>1</th>\n",
       "      <td>-0.050073</td>\n",
       "      <td>0.311947</td>\n",
       "      <td>9.785619</td>\n",
       "      <td>-0.003369</td>\n",
       "      <td>0.001898</td>\n",
       "      <td>-0.002051</td>\n",
       "      <td>9.797741</td>\n",
       "      <td>0.013805</td>\n",
       "      <td>0.000003</td>\n",
       "      <td>6.859937e-07</td>\n",
       "      <td>...</td>\n",
       "      <td>0.047696</td>\n",
       "      <td>0.000013</td>\n",
       "      <td>0.003880</td>\n",
       "      <td>0.004106</td>\n",
       "      <td>0.050477</td>\n",
       "      <td>0.000140</td>\n",
       "      <td>0.000140</td>\n",
       "      <td>0.000083</td>\n",
       "      <td>0.050763</td>\n",
       "      <td>0.000151</td>\n",
       "    </tr>\n",
       "  </tbody>\n",
       "</table>\n",
       "<p>2 rows × 32 columns</p>\n",
       "</div>"
      ],
      "text/plain": [
       "     ax_sum    ay_sum    az_sum    gx_sum    gy_sum    gz_sum     a_sum  \\\n",
       "0 -0.046400  0.305907  9.791451 -0.002184  0.001311 -0.001901  9.800683   \n",
       "1 -0.050073  0.311947  9.785619 -0.003369  0.001898 -0.002051  9.797741   \n",
       "\n",
       "      g_sum    ax_var        ay_var  ...     a_min     g_min    ax_max  \\\n",
       "0  0.012437  0.000002  3.020959e-07  ...  0.048406  0.000007  0.002575   \n",
       "1  0.013805  0.000003  6.859937e-07  ...  0.047696  0.000013  0.003880   \n",
       "\n",
       "     ay_max    az_max    gx_max    gy_max    gz_max     a_max     g_max  \n",
       "0  0.002993  0.049701  0.000094  0.000115  0.000080  0.049764  0.000142  \n",
       "1  0.004106  0.050477  0.000140  0.000140  0.000083  0.050763  0.000151  \n",
       "\n",
       "[2 rows x 32 columns]"
      ]
     },
     "execution_count": 56,
     "metadata": {},
     "output_type": "execute_result"
    }
   ],
   "source": [
    "# TODO - Load the target vector from test_set2 into y2, and all features from test_set2 into X2\n",
    "y2 = test_set2['motion_state'] \n",
    "X2 = test_set2.drop(columns=['motion_state']) \n",
    "\n",
    "# Display the first 2 rows of X2 to verify\n",
    "X2.head(2)"
   ]
  },
  {
   "cell_type": "markdown",
   "metadata": {},
   "source": [
    "___"
   ]
  },
  {
   "cell_type": "markdown",
   "metadata": {},
   "source": [
    "#### 4.2.2 - Visualize Results"
   ]
  },
  {
   "cell_type": "code",
   "execution_count": 57,
   "metadata": {},
   "outputs": [
    {
     "name": "stdout",
     "output_type": "stream",
     "text": [
      "test_set1 score: 0.92\n",
      "test_set2 score: 0.73\n"
     ]
    }
   ],
   "source": [
    "# TODO - Print test score accuracies for test_set1 and test_set2\n",
    "test_score1 = grid.score(X1, y1) \n",
    "print(\"test_set1 score: {:.2f}\".format(test_score1))\n",
    "\n",
    "test_score2 = grid.score(X2, y2) \n",
    "print(\"test_set2 score: {:.2f}\".format(test_score2))"
   ]
  },
  {
   "cell_type": "markdown",
   "metadata": {},
   "source": [
    "Display confusion matrix and print classification report for (X1, y1)"
   ]
  },
  {
   "cell_type": "code",
   "execution_count": 58,
   "metadata": {},
   "outputs": [
    {
     "data": {
      "image/png": "[encoded data removed]",
      "text/plain": [
       "<Figure size 576x432 with 2 Axes>"
      ]
     },
     "metadata": {
      "needs_background": "light"
     },
     "output_type": "display_data"
    },
    {
     "name": "stdout",
     "output_type": "stream",
     "text": [
      "Classification Report for test_set1:\n",
      "\n",
      "              precision    recall  f1-score   support\n",
      "\n",
      "        rest       0.90      0.99      0.94       231\n",
      "    straight       0.85      0.82      0.83       411\n",
      "        turn       0.63      0.60      0.61       141\n",
      "\n",
      "    accuracy                           0.83       783\n",
      "   macro avg       0.79      0.80      0.80       783\n",
      "weighted avg       0.83      0.83      0.83       783\n",
      "\n"
     ]
    }
   ],
   "source": [
    "# TODO - Display confusion matrix and print classification report for (X1, y1)\n",
    "y1 = y1.astype(str)  \n",
    "y1_pred = y1_pred.astype(str) \n",
    "\n",
    "conf_matrix1 = confusion_matrix(y1, y1_pred)\n",
    "\n",
    "class_labels = sorted(y1.unique()) \n",
    "\n",
    "plt.figure(figsize=(8, 6))\n",
    "sns.heatmap(conf_matrix1, annot=True, fmt='d', cmap='Blues', xticklabels=class_labels, yticklabels=class_labels)\n",
    "plt.xlabel('Predicted Labels')\n",
    "plt.ylabel('True Labels')\n",
    "plt.title('Confusion Matrix for test_set1')\n",
    "plt.show()\n",
    "\n",
    "print(\"Classification Report for test_set1:\\n\")\n",
    "print(classification_report(y1, y1_pred, target_names=[str(label) for label in class_labels]))"
   ]
  },
  {
   "cell_type": "markdown",
   "metadata": {},
   "source": [
    "Display the confusion matrix and print the classification for test_set 2 *(X2, y2)*"
   ]
  },
  {
   "cell_type": "code",
   "execution_count": 59,
   "metadata": {},
   "outputs": [
    {
     "data": {
      "image/png": "[encoded data removed]",
      "text/plain": [
       "<Figure size 576x432 with 2 Axes>"
      ]
     },
     "metadata": {
      "needs_background": "light"
     },
     "output_type": "display_data"
    },
    {
     "name": "stdout",
     "output_type": "stream",
     "text": [
      "Classification Report for test_set2:\n",
      "\n",
      "              precision    recall  f1-score   support\n",
      "\n",
      "        rest       0.22      1.00      0.36        16\n",
      "    straight       0.91      0.68      0.78       206\n",
      "        turn       0.88      0.81      0.85        75\n",
      "\n",
      "    accuracy                           0.73       297\n",
      "   macro avg       0.67      0.83      0.66       297\n",
      "weighted avg       0.87      0.73      0.77       297\n",
      "\n"
     ]
    }
   ],
   "source": [
    "# TODO - Display confusion matrix and print classification report for (X2, y2)\n",
    "y2_pred = grid.best_estimator_.predict(X2)\n",
    "\n",
    "conf_matrix2 = confusion_matrix(y2, y2_pred)\n",
    "\n",
    "plt.figure(figsize=(8, 6))\n",
    "sns.heatmap(conf_matrix2, annot=True, fmt='d', cmap='Blues', xticklabels=grid.best_estimator_.classes_, yticklabels=grid.best_estimator_.classes_)\n",
    "plt.xlabel('Predicted Labels')\n",
    "plt.ylabel('True Labels')\n",
    "plt.title('Confusion Matrix for test_set2')\n",
    "plt.show()\n",
    "\n",
    "class_labels = sorted(y2.unique()) \n",
    "\n",
    "print(\"Classification Report for test_set2:\\n\")\n",
    "print(classification_report(y2, y2_pred, target_names=[str(label) for label in class_labels]))"
   ]
  },
  {
   "cell_type": "markdown",
   "metadata": {},
   "source": [
    "___"
   ]
  },
  {
   "cell_type": "markdown",
   "metadata": {},
   "source": [
    "#### 4.2.3 - Questions"
   ]
  },
  {
   "cell_type": "markdown",
   "metadata": {},
   "source": [
    "1. Based on the observations across all three datasets, compare the performance of the model with PCA, trained in this section to: (4 marks)\n",
    "    * Model trained in Section 1 using *all features*.\n",
    "    * Model trained in Section 2 using *selected features*. \n",
    "    * Model trained in Section 3 using *group selected features*\n",
    "\n",
    "2. Please provide potential explanations for the differences observed in models' performances across between section 1 and 4. (2 marks)"
   ]
  },
  {
   "cell_type": "markdown",
   "metadata": {},
   "source": [
    "#### 4.2.3 - Answers"
   ]
  },
  {
   "cell_type": "markdown",
   "metadata": {},
   "source": [
    "1. Section 1 showed overfitting, with great performance on training and test_set1, but poor generalization to test_set2.\n",
    "Section 2 performed consistently well across all datasets, with stable performance on test_set1 (0.83) and test_set2 (0.84), showing the best balance between generalization and accuracy.\n",
    "Section 3 showed good performance on test_set1 (0.89) but struggled with test_set2 (0.25), suggesting feature mismatch or overfitting.\n",
    "Section 4 had improved performance on test_set2 (0.72) compared to Section 1 and Section 3, but still did not match Section 2's consistency.\n",
    "<br> <br>\n",
    "2. Section 1 likely overfitted due to using all features, including irrelevant or noisy ones, leading to poor performance on test_set2 (0.25).\n",
    "\n",
    "    Section 4, using PCA, reduced dimensionality and noise, improving test_set2 performance (0.72), but still didn’t match the consistency of Section 2 due to possible loss of important features during the PCA transformation."
   ]
  },
  {
   "cell_type": "markdown",
   "metadata": {},
   "source": [
    "____"
   ]
  },
  {
   "cell_type": "markdown",
   "metadata": {},
   "source": [
    "## Section 5 - Classification Using *Pre Selected Features* Derived From Inertial Sensor Data (10 Marks)"
   ]
  },
  {
   "cell_type": "markdown",
   "metadata": {},
   "source": [
    "___"
   ]
  },
  {
   "cell_type": "markdown",
   "metadata": {},
   "source": [
    "Now, a second classifer is to be trained and tuned using grid search. The **selected features from section 2** must be used. You may choose from one of the algorithms discussed that class listed below.\n",
    "1. Random Forest\n",
    "1. K-Nearest Neighbors\n",
    "1. Gradient Boosting Machines\n",
    "1. Neural Networks"
   ]
  },
  {
   "cell_type": "markdown",
   "metadata": {},
   "source": [
    "____"
   ]
  },
  {
   "cell_type": "markdown",
   "metadata": {},
   "source": [
    "### 5.1 Grid Search with Cross Validation (6 Marks)"
   ]
  },
  {
   "cell_type": "markdown",
   "metadata": {},
   "source": [
    "___"
   ]
  },
  {
   "cell_type": "markdown",
   "metadata": {},
   "source": [
    "#### 5.1.1 Extract *Selected* features and target from *cv_set*"
   ]
  },
  {
   "cell_type": "markdown",
   "metadata": {},
   "source": [
    "**Questions**\n",
    "1. Please list the ML model that you have selected . And explain *why you have chosen* this model? (2 marks)"
   ]
  },
  {
   "cell_type": "markdown",
   "metadata": {},
   "source": [
    "**Answer** \n",
    "1. We chose Neural Networks because we were interested to try it and see how it performs in practice.\n",
    "\n",
    "    We also tried Random Forest (please see other branches)."
   ]
  },
  {
   "cell_type": "code",
   "execution_count": 92,
   "metadata": {},
   "outputs": [
    {
     "data": {
      "text/html": [
       "<div>\n",
       "<style scoped>\n",
       "    .dataframe tbody tr th:only-of-type {\n",
       "        vertical-align: middle;\n",
       "    }\n",
       "\n",
       "    .dataframe tbody tr th {\n",
       "        vertical-align: top;\n",
       "    }\n",
       "\n",
       "    .dataframe thead th {\n",
       "        text-align: right;\n",
       "    }\n",
       "</style>\n",
       "<table border=\"1\" class=\"dataframe\">\n",
       "  <thead>\n",
       "    <tr style=\"text-align: right;\">\n",
       "      <th></th>\n",
       "      <th>ax_var</th>\n",
       "      <th>ay_var</th>\n",
       "      <th>az_sum</th>\n",
       "      <th>a_sum</th>\n",
       "      <th>gz_var</th>\n",
       "    </tr>\n",
       "  </thead>\n",
       "  <tbody>\n",
       "    <tr>\n",
       "      <th>0</th>\n",
       "      <td>8.046094e-07</td>\n",
       "      <td>1.319665e-07</td>\n",
       "      <td>9.789349</td>\n",
       "      <td>9.797418</td>\n",
       "      <td>7.446916e-10</td>\n",
       "    </tr>\n",
       "    <tr>\n",
       "      <th>1</th>\n",
       "      <td>1.032619e-06</td>\n",
       "      <td>1.073067e-07</td>\n",
       "      <td>9.789095</td>\n",
       "      <td>9.798815</td>\n",
       "      <td>6.983481e-10</td>\n",
       "    </tr>\n",
       "  </tbody>\n",
       "</table>\n",
       "</div>"
      ],
      "text/plain": [
       "         ax_var        ay_var    az_sum     a_sum        gz_var\n",
       "0  8.046094e-07  1.319665e-07  9.789349  9.797418  7.446916e-10\n",
       "1  1.032619e-06  1.073067e-07  9.789095  9.798815  6.983481e-10"
      ]
     },
     "execution_count": 92,
     "metadata": {},
     "output_type": "execute_result"
    }
   ],
   "source": [
    "# TODO - Load group selected features from cv_set to X\n",
    "X = cv_set[['ax_var', 'ay_var', 'az_sum', 'a_sum', 'gz_var']]  # Group selected features\n",
    "\n",
    "# Display the first 2 rows of X to verify\n",
    "X.head(2)"
   ]
  },
  {
   "cell_type": "code",
   "execution_count": 93,
   "metadata": {},
   "outputs": [],
   "source": [
    "# TODO - Load motion_state column (target vector) into y\n",
    "y = cv_set['motion_state'] "
   ]
  },
  {
   "cell_type": "markdown",
   "metadata": {},
   "source": [
    "___"
   ]
  },
  {
   "cell_type": "markdown",
   "metadata": {},
   "source": [
    "#### 5.1.2 - Configure and Perform Grid Search with Cross-Validation"
   ]
  },
  {
   "cell_type": "markdown",
   "metadata": {},
   "source": [
    "Similar to the steps from **1.2.2** and perform model training and tuning using for the model selected. Perform the `train_test_split`, initiate a `Pipeline`, then define the *Parameters* for `GridSearchCV`. Finally, perfrom the grid search."
   ]
  },
  {
   "cell_type": "code",
   "execution_count": 94,
   "metadata": {},
   "outputs": [],
   "source": [
    "# TODO - Perform train/test split\n",
    "X_train, X_test, y_train, y_test = train_test_split(\n",
    "    X, y, test_size=0.30, random_state=42, stratify=y\n",
    ")"
   ]
  },
  {
   "cell_type": "code",
   "execution_count": 95,
   "metadata": {},
   "outputs": [],
   "source": [
    "from sklearn.neural_network import MLPClassifier  \n",
    "\n",
    "# TODO - Initiate the pipeline with a neural network\n",
    "pipe = Pipeline([\n",
    "    ('scaler', StandardScaler()),  \n",
    "    ('classifier', MLPClassifier()) \n",
    "])"
   ]
  },
  {
   "cell_type": "code",
   "execution_count": 96,
   "metadata": {},
   "outputs": [],
   "source": [
    "# TODO - Define the parameter grid for your model\n",
    "# (3 marks)\n",
    "param_grid = {\n",
    "    'classifier__hidden_layer_sizes': [(50,), (100,), (100, 50)],  \n",
    "    'classifier__activation': ['relu', 'tanh'], \n",
    "    'classifier__solver': ['adam', 'sgd'],  \n",
    "    'classifier__alpha': [0.0001, 0.001, 0.01],  \n",
    "    'classifier__learning_rate': ['constant', 'adaptive'], \n",
    "    'classifier__max_iter': [200, 500, 1000]\n",
    "}"
   ]
  },
  {
   "cell_type": "code",
   "execution_count": 97,
   "metadata": {},
   "outputs": [
    {
     "data": {
      "text/plain": [
       "GridSearchCV(cv=5,\n",
       "             estimator=Pipeline(steps=[('scaler', StandardScaler()),\n",
       "                                       ('classifier', MLPClassifier())]),\n",
       "             param_grid={'classifier__activation': ['relu', 'tanh'],\n",
       "                         'classifier__alpha': [0.0001, 0.001, 0.01],\n",
       "                         'classifier__hidden_layer_sizes': [(50,), (100,),\n",
       "                                                            (100, 50)],\n",
       "                         'classifier__learning_rate': ['constant', 'adaptive'],\n",
       "                         'classifier__max_iter': [200, 500, 1000],\n",
       "                         'classifier__solver': ['adam', 'sgd']},\n",
       "             return_train_score=True, scoring='accuracy')"
      ]
     },
     "execution_count": 97,
     "metadata": {},
     "output_type": "execute_result"
    }
   ],
   "source": [
    "# TODO - Perform the grid search\n",
    "grid = GridSearchCV(pipe, param_grid, cv=5, scoring='accuracy', return_train_score=True)\n",
    "grid.fit(X_train, y_train) "
   ]
  },
  {
   "cell_type": "markdown",
   "metadata": {},
   "source": [
    "___"
   ]
  },
  {
   "cell_type": "markdown",
   "metadata": {},
   "source": [
    "#### 5.1.3 - Visualize Grid Search Results"
   ]
  },
  {
   "cell_type": "markdown",
   "metadata": {},
   "source": [
    "Print the results from the grid search. The following outputs must be printed.\n",
    "* Best parameter set\n",
    "* Best cross-validation train score\n",
    "* Best cross-validation test score\n",
    "* Test set accuracy"
   ]
  },
  {
   "cell_type": "code",
   "execution_count": 98,
   "metadata": {},
   "outputs": [
    {
     "name": "stdout",
     "output_type": "stream",
     "text": [
      "Best parameters:\n",
      "{'classifier__activation': 'tanh', 'classifier__alpha': 0.001, 'classifier__hidden_layer_sizes': (100, 50), 'classifier__learning_rate': 'constant', 'classifier__max_iter': 1000, 'classifier__solver': 'adam'}\n",
      "Best cross-validation train score: 0.84\n",
      "Best cross-validation validation score: 0.86\n",
      "Test-set score: 0.85\n"
     ]
    }
   ],
   "source": [
    "# Print the results from the grid search\n",
    "\n",
    "print(\"Best parameters:\\n{}\".format(grid.best_params_))\n",
    "print(\"Best cross-validation train score: {:.2f}\".format(grid.best_score_))\n",
    "print(\"Best cross-validation validation score: {:.2f}\".format(grid.best_estimator_.score(X_train, y_train)))\n",
    "\n",
    "test_score = grid.score(X_test, y_test)\n",
    "print(\"Test-set score: {:.2f}\".format(test_score))"
   ]
  },
  {
   "cell_type": "markdown",
   "metadata": {},
   "source": [
    "Display the confusion matrix and print the classification report for the trained model using the *test* split. "
   ]
  },
  {
   "cell_type": "code",
   "execution_count": 99,
   "metadata": {},
   "outputs": [
    {
     "data": {
      "image/png": "[encoded data removed]",
      "text/plain": [
       "<Figure size 576x432 with 2 Axes>"
      ]
     },
     "metadata": {
      "needs_background": "light"
     },
     "output_type": "display_data"
    },
    {
     "name": "stdout",
     "output_type": "stream",
     "text": [
      "Classification Report:\n",
      "\n",
      "              precision    recall  f1-score   support\n",
      "\n",
      "        rest       0.92      0.98      0.95       155\n",
      "    straight       0.84      0.84      0.84       207\n",
      "        turn       0.77      0.70      0.73        99\n",
      "\n",
      "    accuracy                           0.85       461\n",
      "   macro avg       0.84      0.84      0.84       461\n",
      "weighted avg       0.85      0.85      0.85       461\n",
      "\n"
     ]
    }
   ],
   "source": [
    "# TODO - Display confusion matrix and print classification report\n",
    "y_pred = grid.predict(X_test)\n",
    "\n",
    "conf_matrix = confusion_matrix(y_test, y_pred)\n",
    "\n",
    "class_labels = sorted(y_test.unique())\n",
    "\n",
    "plt.figure(figsize=(8, 6))\n",
    "sns.heatmap(conf_matrix, annot=True, fmt='d', cmap='Blues', xticklabels=class_labels, yticklabels=class_labels)\n",
    "plt.xlabel('Predicted Labels')\n",
    "plt.ylabel('True Labels')\n",
    "plt.title('Confusion Matrix')\n",
    "plt.show()\n",
    "\n",
    "print(\"Classification Report:\\n\")\n",
    "print(classification_report(y_test, y_pred, target_names=[str(label) for label in class_labels]))"
   ]
  },
  {
   "cell_type": "markdown",
   "metadata": {},
   "source": [
    "___"
   ]
  },
  {
   "cell_type": "markdown",
   "metadata": {},
   "source": [
    "### 5.2 - Model Evaluation on Test Datasets 1 and 2 (4 Marks)"
   ]
  },
  {
   "cell_type": "markdown",
   "metadata": {},
   "source": [
    "___"
   ]
  },
  {
   "cell_type": "markdown",
   "metadata": {},
   "source": [
    "#### 5.2.1 - Extract selected features and targets from test datasets"
   ]
  },
  {
   "cell_type": "markdown",
   "metadata": {},
   "source": [
    "The model trained in 5.1, is to be tested on the independent datasets, that is test_set1 and test_set2. \n",
    "Seperate the testsets into features and target vectors *(X1, y1)* and *(X2,y2)*"
   ]
  },
  {
   "cell_type": "code",
   "execution_count": 100,
   "metadata": {},
   "outputs": [
    {
     "data": {
      "text/html": [
       "<div>\n",
       "<style scoped>\n",
       "    .dataframe tbody tr th:only-of-type {\n",
       "        vertical-align: middle;\n",
       "    }\n",
       "\n",
       "    .dataframe tbody tr th {\n",
       "        vertical-align: top;\n",
       "    }\n",
       "\n",
       "    .dataframe thead th {\n",
       "        text-align: right;\n",
       "    }\n",
       "</style>\n",
       "<table border=\"1\" class=\"dataframe\">\n",
       "  <thead>\n",
       "    <tr style=\"text-align: right;\">\n",
       "      <th></th>\n",
       "      <th>ax_var</th>\n",
       "      <th>ay_var</th>\n",
       "      <th>az_sum</th>\n",
       "      <th>a_sum</th>\n",
       "      <th>gz_var</th>\n",
       "    </tr>\n",
       "  </thead>\n",
       "  <tbody>\n",
       "    <tr>\n",
       "      <th>0</th>\n",
       "      <td>0.000001</td>\n",
       "      <td>7.749919e-08</td>\n",
       "      <td>9.786930</td>\n",
       "      <td>9.801661</td>\n",
       "      <td>7.727190e-10</td>\n",
       "    </tr>\n",
       "    <tr>\n",
       "      <th>1</th>\n",
       "      <td>0.000001</td>\n",
       "      <td>9.243000e-08</td>\n",
       "      <td>9.788127</td>\n",
       "      <td>9.802481</td>\n",
       "      <td>8.871433e-10</td>\n",
       "    </tr>\n",
       "  </tbody>\n",
       "</table>\n",
       "</div>"
      ],
      "text/plain": [
       "     ax_var        ay_var    az_sum     a_sum        gz_var\n",
       "0  0.000001  7.749919e-08  9.786930  9.801661  7.727190e-10\n",
       "1  0.000001  9.243000e-08  9.788127  9.802481  8.871433e-10"
      ]
     },
     "execution_count": 100,
     "metadata": {},
     "output_type": "execute_result"
    }
   ],
   "source": [
    "# TODO - Load the target vector from test_set1 into y1, and the selected features from test_set1 into X1\n",
    "y1 = test_set1['motion_state']\n",
    "X1 = test_set1[['ax_var', 'ay_var', 'az_sum', 'a_sum', 'gz_var']]  \n",
    "\n",
    "X1.head(2)"
   ]
  },
  {
   "cell_type": "code",
   "execution_count": 101,
   "metadata": {},
   "outputs": [
    {
     "data": {
      "text/html": [
       "<div>\n",
       "<style scoped>\n",
       "    .dataframe tbody tr th:only-of-type {\n",
       "        vertical-align: middle;\n",
       "    }\n",
       "\n",
       "    .dataframe tbody tr th {\n",
       "        vertical-align: top;\n",
       "    }\n",
       "\n",
       "    .dataframe thead th {\n",
       "        text-align: right;\n",
       "    }\n",
       "</style>\n",
       "<table border=\"1\" class=\"dataframe\">\n",
       "  <thead>\n",
       "    <tr style=\"text-align: right;\">\n",
       "      <th></th>\n",
       "      <th>ax_var</th>\n",
       "      <th>ay_var</th>\n",
       "      <th>az_sum</th>\n",
       "      <th>a_sum</th>\n",
       "      <th>gz_var</th>\n",
       "    </tr>\n",
       "  </thead>\n",
       "  <tbody>\n",
       "    <tr>\n",
       "      <th>0</th>\n",
       "      <td>0.000002</td>\n",
       "      <td>3.020959e-07</td>\n",
       "      <td>9.791451</td>\n",
       "      <td>9.800683</td>\n",
       "      <td>1.405038e-09</td>\n",
       "    </tr>\n",
       "    <tr>\n",
       "      <th>1</th>\n",
       "      <td>0.000003</td>\n",
       "      <td>6.859937e-07</td>\n",
       "      <td>9.785619</td>\n",
       "      <td>9.797741</td>\n",
       "      <td>1.164381e-09</td>\n",
       "    </tr>\n",
       "  </tbody>\n",
       "</table>\n",
       "</div>"
      ],
      "text/plain": [
       "     ax_var        ay_var    az_sum     a_sum        gz_var\n",
       "0  0.000002  3.020959e-07  9.791451  9.800683  1.405038e-09\n",
       "1  0.000003  6.859937e-07  9.785619  9.797741  1.164381e-09"
      ]
     },
     "execution_count": 101,
     "metadata": {},
     "output_type": "execute_result"
    }
   ],
   "source": [
    "# TODO - Load the target vector from test_set2 into y2, and the selected features from test_set2 into X2\n",
    "y2 = test_set2['motion_state'] \n",
    "X2 = test_set2[['ax_var', 'ay_var', 'az_sum', 'a_sum', 'gz_var']]  \n",
    "\n",
    "X2.head(2)"
   ]
  },
  {
   "cell_type": "markdown",
   "metadata": {},
   "source": [
    "___"
   ]
  },
  {
   "cell_type": "markdown",
   "metadata": {},
   "source": [
    "#### 5.2.2 - Visualize Results"
   ]
  },
  {
   "cell_type": "markdown",
   "metadata": {},
   "source": [
    "For each test dataset, print the test set accuracy score. "
   ]
  },
  {
   "cell_type": "code",
   "execution_count": 102,
   "metadata": {},
   "outputs": [
    {
     "name": "stdout",
     "output_type": "stream",
     "text": [
      "test_set1 score: 0.85\n",
      "test_set2 score: 0.78\n"
     ]
    }
   ],
   "source": [
    "# TODO - Print test score accuracies for test_set1 and test_set2\n",
    "\n",
    "test_score1 = grid.score(X1, y1) \n",
    "print(\"test_set1 score: {:.2f}\".format(test_score1))\n",
    "\n",
    "test_score2 = grid.score(X2, y2) \n",
    "print(\"test_set2 score: {:.2f}\".format(test_score2))"
   ]
  },
  {
   "cell_type": "markdown",
   "metadata": {},
   "source": [
    "Display the confusion matrix and print the classification for test_set 1 *(X1, y1)*"
   ]
  },
  {
   "cell_type": "code",
   "execution_count": 103,
   "metadata": {},
   "outputs": [
    {
     "data": {
      "image/png": "[encoded data removed]",
      "text/plain": [
       "<Figure size 576x432 with 2 Axes>"
      ]
     },
     "metadata": {
      "needs_background": "light"
     },
     "output_type": "display_data"
    },
    {
     "name": "stdout",
     "output_type": "stream",
     "text": [
      "Classification Report for test_set1:\n",
      "\n",
      "              precision    recall  f1-score   support\n",
      "\n",
      "        rest       0.90      0.99      0.94       231\n",
      "    straight       0.85      0.82      0.83       411\n",
      "        turn       0.63      0.60      0.61       141\n",
      "\n",
      "    accuracy                           0.83       783\n",
      "   macro avg       0.79      0.80      0.80       783\n",
      "weighted avg       0.83      0.83      0.83       783\n",
      "\n"
     ]
    }
   ],
   "source": [
    "# TODO - Display confusion matrix and print classification report for (X1, y1)\n",
    "y1 = y1.astype(str) \n",
    "y1_pred = y1_pred.astype(str) \n",
    "\n",
    "conf_matrix1 = confusion_matrix(y1, y1_pred)\n",
    "\n",
    "class_labels = sorted(y1.unique())\n",
    "\n",
    "\n",
    "plt.figure(figsize=(8, 6))\n",
    "sns.heatmap(conf_matrix1, annot=True, fmt='d', cmap='Blues', xticklabels=class_labels, yticklabels=class_labels)\n",
    "plt.xlabel('Predicted Labels')\n",
    "plt.ylabel('True Labels')\n",
    "plt.title('Confusion Matrix for test_set1')\n",
    "plt.show()\n",
    "\n",
    "print(\"Classification Report for test_set1:\\n\")\n",
    "print(classification_report(y1, y1_pred, target_names=[str(label) for label in class_labels]))"
   ]
  },
  {
   "cell_type": "markdown",
   "metadata": {},
   "source": [
    "Display the confusion matrix and print the classification for test_set 2 *(X2, y2)*"
   ]
  },
  {
   "cell_type": "code",
   "execution_count": 104,
   "metadata": {},
   "outputs": [
    {
     "data": {
      "image/png": "[encoded data removed]",
      "text/plain": [
       "<Figure size 576x432 with 2 Axes>"
      ]
     },
     "metadata": {
      "needs_background": "light"
     },
     "output_type": "display_data"
    },
    {
     "name": "stdout",
     "output_type": "stream",
     "text": [
      "Classification Report for test_set2:\n",
      "\n",
      "              precision    recall  f1-score   support\n",
      "\n",
      "        rest       0.94      0.94      0.94        16\n",
      "    straight       0.92      0.75      0.83       206\n",
      "        turn       0.55      0.84      0.67        75\n",
      "\n",
      "    accuracy                           0.78       297\n",
      "   macro avg       0.80      0.84      0.81       297\n",
      "weighted avg       0.83      0.78      0.79       297\n",
      "\n"
     ]
    }
   ],
   "source": [
    "# TODO - Display confusion matrix and print classification report for (X2, y2)\n",
    "y2_pred = grid.best_estimator_.predict(X2)\n",
    "\n",
    "conf_matrix2 = confusion_matrix(y2, y2_pred)\n",
    "\n",
    "plt.figure(figsize=(8, 6))\n",
    "sns.heatmap(conf_matrix2, annot=True, fmt='d', cmap='Blues', xticklabels=grid.best_estimator_.classes_, yticklabels=grid.best_estimator_.classes_)\n",
    "plt.xlabel('Predicted Labels')\n",
    "plt.ylabel('True Labels')\n",
    "plt.title('Confusion Matrix for test_set2')\n",
    "plt.show()\n",
    "\n",
    "class_labels = sorted(y2.unique()) \n",
    "\n",
    "print(\"Classification Report for test_set2:\\n\")\n",
    "print(classification_report(y2, y2_pred, target_names=[str(label) for label in class_labels]))"
   ]
  },
  {
   "cell_type": "markdown",
   "metadata": {},
   "source": [
    "___"
   ]
  },
  {
   "cell_type": "markdown",
   "metadata": {},
   "source": [
    "#### 5.2.3 Question"
   ]
  },
  {
   "cell_type": "markdown",
   "metadata": {},
   "source": [
    "1. For the model trainied in this section, compare its performance to the performance of SVC which was also trained with the same selected features (section 2). Which model fits better? Explain causes for any observed discrepancies? (4 marks)"
   ]
  },
  {
   "cell_type": "markdown",
   "metadata": {},
   "source": [
    "#### 5.2.3 - Answer \n",
    "1. SVC performed consistently well across all datasets, with balanced performance. Neural Network (MLPClassifier) showed slightly lower performance on test_set2 (0.78) but still performed well on test_set1 (0.85), it means that it generalizes reasonably well. <br>\n",
    "    The Neural Network may have learned some specific patterns from the training data that don’t generalize as well to test_set2, causing a slight performance difference."
   ]
  },
  {
   "cell_type": "markdown",
   "metadata": {},
   "source": [
    "____"
   ]
  }
 ],
 "metadata": {
  "kernelspec": {
   "display_name": "Python 3 (ipykernel)",
   "language": "python",
   "name": "python3"
  },
  "language_info": {
   "codemirror_mode": {
    "name": "ipython",
    "version": 3
   },
   "file_extension": ".py",
   "mimetype": "text/x-python",
   "name": "python",
   "nbconvert_exporter": "python",
   "pygments_lexer": "ipython3",
   "version": "3.9.7"
  }
 },
 "nbformat": 4,
 "nbformat_minor": 2
}
